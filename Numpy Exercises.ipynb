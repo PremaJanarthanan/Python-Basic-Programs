{
 "cells": [
  {
   "cell_type": "markdown",
   "metadata": {},
   "source": [
    "# 1. Write a NumPy program to get the numpy version and show numpy build configuration"
   ]
  },
  {
   "cell_type": "code",
   "execution_count": 1,
   "metadata": {},
   "outputs": [
    {
     "name": "stdout",
     "output_type": "stream",
     "text": [
      "1.18.1\n",
      "blas_mkl_info:\n",
      "    libraries = ['mkl_rt']\n",
      "    library_dirs = ['C:/Users/user/anaconda3\\\\Library\\\\lib']\n",
      "    define_macros = [('SCIPY_MKL_H', None), ('HAVE_CBLAS', None)]\n",
      "    include_dirs = ['C:\\\\Program Files (x86)\\\\IntelSWTools\\\\compilers_and_libraries_2019.0.117\\\\windows\\\\mkl', 'C:\\\\Program Files (x86)\\\\IntelSWTools\\\\compilers_and_libraries_2019.0.117\\\\windows\\\\mkl\\\\include', 'C:\\\\Program Files (x86)\\\\IntelSWTools\\\\compilers_and_libraries_2019.0.117\\\\windows\\\\mkl\\\\lib', 'C:/Users/user/anaconda3\\\\Library\\\\include']\n",
      "blas_opt_info:\n",
      "    libraries = ['mkl_rt']\n",
      "    library_dirs = ['C:/Users/user/anaconda3\\\\Library\\\\lib']\n",
      "    define_macros = [('SCIPY_MKL_H', None), ('HAVE_CBLAS', None)]\n",
      "    include_dirs = ['C:\\\\Program Files (x86)\\\\IntelSWTools\\\\compilers_and_libraries_2019.0.117\\\\windows\\\\mkl', 'C:\\\\Program Files (x86)\\\\IntelSWTools\\\\compilers_and_libraries_2019.0.117\\\\windows\\\\mkl\\\\include', 'C:\\\\Program Files (x86)\\\\IntelSWTools\\\\compilers_and_libraries_2019.0.117\\\\windows\\\\mkl\\\\lib', 'C:/Users/user/anaconda3\\\\Library\\\\include']\n",
      "lapack_mkl_info:\n",
      "    libraries = ['mkl_rt']\n",
      "    library_dirs = ['C:/Users/user/anaconda3\\\\Library\\\\lib']\n",
      "    define_macros = [('SCIPY_MKL_H', None), ('HAVE_CBLAS', None)]\n",
      "    include_dirs = ['C:\\\\Program Files (x86)\\\\IntelSWTools\\\\compilers_and_libraries_2019.0.117\\\\windows\\\\mkl', 'C:\\\\Program Files (x86)\\\\IntelSWTools\\\\compilers_and_libraries_2019.0.117\\\\windows\\\\mkl\\\\include', 'C:\\\\Program Files (x86)\\\\IntelSWTools\\\\compilers_and_libraries_2019.0.117\\\\windows\\\\mkl\\\\lib', 'C:/Users/user/anaconda3\\\\Library\\\\include']\n",
      "lapack_opt_info:\n",
      "    libraries = ['mkl_rt']\n",
      "    library_dirs = ['C:/Users/user/anaconda3\\\\Library\\\\lib']\n",
      "    define_macros = [('SCIPY_MKL_H', None), ('HAVE_CBLAS', None)]\n",
      "    include_dirs = ['C:\\\\Program Files (x86)\\\\IntelSWTools\\\\compilers_and_libraries_2019.0.117\\\\windows\\\\mkl', 'C:\\\\Program Files (x86)\\\\IntelSWTools\\\\compilers_and_libraries_2019.0.117\\\\windows\\\\mkl\\\\include', 'C:\\\\Program Files (x86)\\\\IntelSWTools\\\\compilers_and_libraries_2019.0.117\\\\windows\\\\mkl\\\\lib', 'C:/Users/user/anaconda3\\\\Library\\\\include']\n",
      "None\n"
     ]
    }
   ],
   "source": [
    "import numpy as np\n",
    "print(np.__version__)\n",
    "print(np.show_config())"
   ]
  },
  {
   "cell_type": "markdown",
   "metadata": {},
   "source": [
    "# 2.Write a NumPy program to  get help on the add function"
   ]
  },
  {
   "cell_type": "code",
   "execution_count": 10,
   "metadata": {},
   "outputs": [
    {
     "name": "stdout",
     "output_type": "stream",
     "text": [
      "[3 5 7]\n"
     ]
    }
   ],
   "source": [
    "#np.add? - np.method_name? we can type method name with question mark\n",
    "#or\n",
    "#help(np.add) - we can pass as an argument also\n",
    "#same way, we can get help on any method\n",
    "#example\n",
    "\n",
    "A1 = [1,2,3]\n",
    "A2 = [2,3,4]\n",
    "A3 = np.add(A1,A2)\n",
    "print(A3)"
   ]
  },
  {
   "cell_type": "markdown",
   "metadata": {},
   "source": [
    "# 3.Write a NumPy program to test whether none of the elements of a given array is zero."
   ]
  },
  {
   "cell_type": "code",
   "execution_count": 40,
   "metadata": {},
   "outputs": [
    {
     "name": "stdout",
     "output_type": "stream",
     "text": [
      "The array contains no zero elements\n",
      "Using built in Method np.all(x)\n",
      "Array A contains no Zero- True\n",
      "Array B contains no Zero- False\n"
     ]
    }
   ],
   "source": [
    "A = np.array([1,2,3,4,5,6])\n",
    "B = np.array([4,5,6,7,8,0])\n",
    "#Using Logic\n",
    "count = 0\n",
    "for i in A:\n",
    "    if(i==0):\n",
    "        print(\"This array contains zero\")\n",
    "        break\n",
    "    else:\n",
    "        count=count+1\n",
    "        if count==len(A):\n",
    "            print(\"The array contains no zero elements\") \n",
    "            \n",
    "#Using Built in Method            \n",
    "print(\"Using built in Method np.all(x)\")\n",
    "print(\"Array A contains no Zero-\",np.all(A))\n",
    "print(\"Array B contains no Zero-\",np.all(B))"
   ]
  },
  {
   "cell_type": "markdown",
   "metadata": {},
   "source": [
    "# 4.Write a NumPy program to test whether any of the elements of a given array is non-zero."
   ]
  },
  {
   "cell_type": "code",
   "execution_count": 44,
   "metadata": {},
   "outputs": [
    {
     "name": "stdout",
     "output_type": "stream",
     "text": [
      "The given C array contains any non-zero elements\n",
      "False\n",
      "The given D array contains any non-zero elements\n",
      "True\n"
     ]
    }
   ],
   "source": [
    "C = np.array([0,0,0,0,0])\n",
    "D = np.array([1,2,0,0,0])\n",
    "\n",
    "print(\"The given C array contains any non-zero elements\")\n",
    "print(np.any(C))\n",
    "\n",
    "print(\"The given D array contains any non-zero elements\")\n",
    "print(np.any(D))"
   ]
  },
  {
   "cell_type": "markdown",
   "metadata": {},
   "source": [
    "# 5.Write a NumPy program to test a given array element-wise for finiteness (not infinity or not a Number)"
   ]
  },
  {
   "cell_type": "code",
   "execution_count": 47,
   "metadata": {},
   "outputs": [
    {
     "name": "stdout",
     "output_type": "stream",
     "text": [
      "The given C array details\n",
      "[ True  True  True  True  True]\n",
      "The given D array details\n",
      "[ True  True False  True False]\n"
     ]
    }
   ],
   "source": [
    "C = np.array([10,23,34,67,87])\n",
    "D = np.array([1,2,np.inf,27,np.nan])\n",
    "\n",
    "print(\"The given C array details\")\n",
    "print(np.isfinite(C))\n",
    "\n",
    "print(\"The given D array details\")\n",
    "print(np.isfinite(D))"
   ]
  },
  {
   "cell_type": "markdown",
   "metadata": {},
   "source": [
    "# 6.Write a NumPy program to test element-wise for positive or negative infinity."
   ]
  },
  {
   "cell_type": "code",
   "execution_count": 13,
   "metadata": {},
   "outputs": [
    {
     "name": "stdout",
     "output_type": "stream",
     "text": [
      "Original A Array\n",
      " [12. 34. inf nan]\n",
      "\n",
      "Original B Array\n",
      " [12 13 45 23]\n",
      "\n",
      "Test element-wise for positive or negative infinity-Array A\n",
      "[False False  True False]\n",
      "\n",
      "Test element-wise for positive or negative infinity-Array B\n",
      "[False False False False]\n"
     ]
    }
   ],
   "source": [
    "A = np.array([12, 34, np.inf, np.nan])\n",
    "B = np.array([12,13,45,23])\n",
    "\n",
    "print(\"Original A Array\\n\",A)\n",
    "print(\"\\nOriginal B Array\\n\",B)\n",
    "\n",
    "print(\"\\nTest element-wise for positive or negative infinity-Array A\")\n",
    "print(np.isinf(A))\n",
    "\n",
    "print(\"\\nTest element-wise for positive or negative infinity-Array B\")\n",
    "print(np.isinf(B))"
   ]
  },
  {
   "cell_type": "markdown",
   "metadata": {},
   "source": [
    "# 7.Write a NumPy program to test element-wise for NaN of a given array."
   ]
  },
  {
   "cell_type": "code",
   "execution_count": 16,
   "metadata": {},
   "outputs": [
    {
     "name": "stdout",
     "output_type": "stream",
     "text": [
      "\n",
      " Original Array [1, 2, 3, nan, inf]\n",
      "\n",
      "est element-wise for NaN of a given array\n",
      "\n",
      " [False False False  True False]\n"
     ]
    }
   ],
   "source": [
    "A = ([1,2,3,np.nan,np.inf])\n",
    "print(\"\\n Original Array\", A)\n",
    "print(\"\\nest element-wise for NaN of a given array\")\n",
    "print(\"\\n\",np.isnan(A))"
   ]
  },
  {
   "cell_type": "markdown",
   "metadata": {},
   "source": [
    "# 8. Write a NumPy program to test element-wise for complex number, real number of a given array. Also test whether a given number is a scalar type or not."
   ]
  },
  {
   "cell_type": "code",
   "execution_count": 22,
   "metadata": {},
   "outputs": [
    {
     "name": "stdout",
     "output_type": "stream",
     "text": [
      "Original Array\n",
      " [1.+3.j 2.+0.j 3.+2.j 4.+0.j 5.+0.j 6.+1.j]\n",
      "\n",
      "Type is <class 'numpy.ndarray'>\n",
      "\n",
      "Check element wise complex number\n",
      "\n",
      " [ True False  True False False  True]\n",
      "\n",
      "Check element wise Real number\n",
      "\n",
      " [False  True False  True  True False]\n",
      "\n",
      " True\n",
      "False\n"
     ]
    }
   ],
   "source": [
    "A = np.array([1+3j,2,3+2j,4,5,6+1j])\n",
    "print(\"Original Array\\n\",A)\n",
    "\n",
    "print(\"\\nType is\",type(A))\n",
    "\n",
    "print(\"\\nCheck element wise complex number\")\n",
    "print(\"\\n\",np.iscomplex(A))\n",
    "print(\"\\nCheck element wise Real number\")\n",
    "print(\"\\n\",np.isreal(A))\n",
    "print(\"\\n\", np.isscalar(4.3))\n",
    "print(np.isscalar([4.3]))"
   ]
  },
  {
   "cell_type": "markdown",
   "metadata": {},
   "source": [
    "# 9. Write a NumPy program to test whether two arrays are element-wise equal within a tolerancet\n",
    "#It returns True or False by comparing all elemets one by one"
   ]
  },
  {
   "cell_type": "code",
   "execution_count": 33,
   "metadata": {},
   "outputs": [
    {
     "name": "stdout",
     "output_type": "stream",
     "text": [
      "\n",
      " False\n",
      "\n",
      " True\n",
      "\n",
      " False\n",
      "\n",
      " True\n"
     ]
    }
   ],
   "source": [
    "#np.allclose - this method checks all elements one by one. if difference is upto tolerance level, then it will return TRUE\n",
    "A = np.array([1,2,3,4,5])\n",
    "B = np.array([1.01,2.01,3,4,5])\n",
    "print(\"\\n\",np.allclose(A,B))\n",
    "      \n",
    "A1 = np.array([1,2,3,4,5])\n",
    "B1 = np.array([1.00001,2.000001,3,4,5])\n",
    "print(\"\\n\",np.allclose(A1,B1))\n",
    "\n",
    "A2 = np.array([1,2,np.nan,5])\n",
    "B2 = np.array([1,2,np.nan,5])\n",
    "print(\"\\n\",np.allclose(A2,B2))\n",
    "\n",
    "#We have to mention np.nan as TRUE. then it will consider as equal value\n",
    "A2 = np.array([1,2,np.nan,5])\n",
    "B2 = np.array([1,2,np.nan,5])\n",
    "print(\"\\n\",np.allclose(A2,B2,equal_nan = True))"
   ]
  },
  {
   "cell_type": "markdown",
   "metadata": {},
   "source": [
    "# 10.Write a NumPy program to create an element-wise comparison (greater, greater_equal, less and less_equal) of two given arrays"
   ]
  },
  {
   "cell_type": "code",
   "execution_count": 41,
   "metadata": {},
   "outputs": [
    {
     "name": "stdout",
     "output_type": "stream",
     "text": [
      "\n",
      "Check for A>B [ True False False False False False]\n",
      "\n",
      "Check for A>=B [ True False False False False  True]\n",
      "\n",
      "Check for A<B [False  True  True  True  True False]\n",
      "\n",
      "Check for A<=B [False  True  True  True  True  True]\n"
     ]
    }
   ],
   "source": [
    "A = np.array([8,2,3,4,5,7])\n",
    "B = np.array([1,3,4,5,6,7])\n",
    "print(\"\\nCheck for A>B\",np.greater(A,B))\n",
    "print(\"\\nCheck for A>=B\",np.greater_equal(A,B))\n",
    "print(\"\\nCheck for A<B\",np.less(A,B))\n",
    "print(\"\\nCheck for A<=B\",np.less_equal(A,B))"
   ]
  },
  {
   "cell_type": "markdown",
   "metadata": {},
   "source": [
    "# 11. Write a NumPy program to create an element-wise comparison (equal, equal within a tolerance) of two given arrays."
   ]
  },
  {
   "cell_type": "code",
   "execution_count": 45,
   "metadata": {},
   "outputs": [
    {
     "name": "stdout",
     "output_type": "stream",
     "text": [
      "Original numbers:\n",
      "\n",
      "[  72   79   85   90  150 -135  120  -10   60  100]\n",
      "[  72.         79.         85.         90.        150.       -135.\n",
      "  120.        -10.         60.        100.000001]\n",
      "\n",
      "Element Wise Comparison - equal:\n",
      "[ True  True  True  True  True  True  True  True  True False]\n",
      "\n",
      "Over all Comparison - equal within a tolerance:\n",
      "True\n"
     ]
    }
   ],
   "source": [
    "x = np.array([72, 79, 85, 90, 150, -135, 120, -10, 60, 100])\n",
    "y = np.array([72, 79, 85, 90, 150, -135, 120, -10, 60, 100.000001])\n",
    "print(\"Original numbers:\\n\")\n",
    "print(x)\n",
    "print(y)\n",
    "print(\"\\nElement Wise Comparison - equal:\")\n",
    "print(np.equal(x, y))\n",
    "print(\"\\nOver all Comparison - equal within a tolerance:\")\n",
    "print(np.allclose(x, y))"
   ]
  },
  {
   "cell_type": "markdown",
   "metadata": {},
   "source": [
    "# 12. Write a NumPy program to create an array with the values 1, 7, 13, 105 and determine the size of the memory occupied by the array"
   ]
  },
  {
   "cell_type": "code",
   "execution_count": 56,
   "metadata": {},
   "outputs": [
    {
     "name": "stdout",
     "output_type": "stream",
     "text": [
      "The size of array A is 4\n",
      "The length of array A is 4\n",
      "Each item size of array A is 4\n",
      "\n",
      "16 bytes\n"
     ]
    }
   ],
   "source": [
    "A = np.array([1,7,14,105])\n",
    "\n",
    "print(\"The size of array A is\", np.size(A))\n",
    "print(\"The length of array A is\", len(A))\n",
    "print(\"Each item size of array A is\", A.itemsize)\n",
    "print(\"\\n%d bytes\" % (A.size * A.itemsize))"
   ]
  },
  {
   "cell_type": "markdown",
   "metadata": {},
   "source": [
    "# 13. Write a NumPy program to create an array of 10 zeros,10 ones, 10 fives"
   ]
  },
  {
   "cell_type": "code",
   "execution_count": 58,
   "metadata": {},
   "outputs": [
    {
     "name": "stdout",
     "output_type": "stream",
     "text": [
      "Zeros array [0. 0. 0. 0. 0. 0. 0. 0. 0. 0.]\n",
      "\n",
      "Ones array [1. 1. 1. 1. 1. 1. 1. 1. 1. 1.]\n",
      "\n",
      "Multiples of Ones array [5. 5. 5. 5. 5. 5. 5. 5. 5. 5.]\n",
      "\n",
      "Multiples of Ones array [8. 8. 8. 8. 8. 8. 8. 8. 8. 8.]\n"
     ]
    }
   ],
   "source": [
    "A = np.zeros(10)\n",
    "print(\"Zeros array\",A)\n",
    "\n",
    "B = np.ones(10)\n",
    "print(\"\\nOnes array\",B)\n",
    "\n",
    "C = np.ones(10)*5\n",
    "print(\"\\nMultiples of Ones array\",C)\n",
    "\n",
    "D = np.ones(10)*8\n",
    "print(\"\\nMultiples of Ones array\",D)"
   ]
  },
  {
   "cell_type": "markdown",
   "metadata": {},
   "source": [
    "# 14. Write a NumPy program to create an array of the integers from 30 to70."
   ]
  },
  {
   "cell_type": "code",
   "execution_count": 61,
   "metadata": {},
   "outputs": [
    {
     "name": "stdout",
     "output_type": "stream",
     "text": [
      "[30 31 32 33 34 35 36 37 38 39 40 41 42 43 44 45 46 47 48 49 50 51 52 53\n",
      " 54 55 56 57 58 59 60 61 62 63 64 65 66 67 68 69 70]\n"
     ]
    }
   ],
   "source": [
    "#We can mention Array Range using arange() method\n",
    "\n",
    "A = np.arange(30,71)\n",
    "print(A)"
   ]
  },
  {
   "cell_type": "markdown",
   "metadata": {},
   "source": [
    "# 15. Write a NumPy program to create an array of all the even integers from 30 to 70"
   ]
  },
  {
   "cell_type": "code",
   "execution_count": 63,
   "metadata": {},
   "outputs": [
    {
     "name": "stdout",
     "output_type": "stream",
     "text": [
      "[30 32 34 36 38 40 42 44 46 48 50 52 54 56 58 60 62 64 66 68 70]\n"
     ]
    }
   ],
   "source": [
    "A = np.arange(30,71,2)\n",
    "print(A)"
   ]
  },
  {
   "cell_type": "markdown",
   "metadata": {},
   "source": [
    "# 16. Write a NumPy program to create a 3x3 identity matrix"
   ]
  },
  {
   "cell_type": "code",
   "execution_count": 65,
   "metadata": {},
   "outputs": [
    {
     "name": "stdout",
     "output_type": "stream",
     "text": [
      "The 3*3 Identiti matrix is\n",
      " [[1. 0. 0.]\n",
      " [0. 1. 0.]\n",
      " [0. 0. 1.]]\n"
     ]
    }
   ],
   "source": [
    "A = np.identity(3)\n",
    "print(\"The 3*3 Identiti matrix is\\n\",A)"
   ]
  },
  {
   "cell_type": "markdown",
   "metadata": {},
   "source": [
    "# 17. Write a NumPy program to generate a random Integer"
   ]
  },
  {
   "cell_type": "code",
   "execution_count": 84,
   "metadata": {
    "scrolled": true
   },
   "outputs": [
    {
     "name": "stdout",
     "output_type": "stream",
     "text": [
      "\n",
      " Any Random integer below 3\n",
      "1\n",
      "\n",
      " Any Random integer 3 to 5\n",
      "3\n",
      "\n",
      "Random integers with the dimension 2*3 from 30 to 100\n",
      "[[41 33 66]\n",
      " [44 78 87]]\n",
      "\n",
      "Random integers with the dimension 2*3 from 30 to 100 with data type mentioned\n",
      "[[43 51 95]\n",
      " [47 75 76]]\n",
      "\n",
      " Data Type is int32\n"
     ]
    }
   ],
   "source": [
    "#randint(low, high=None, size=None, dtype='l')\n",
    "\n",
    "print(\"\\n Any Random integer below 3\")\n",
    "A = np.random.randint(3)\n",
    "print(A)\n",
    "#Return random integer below 3\n",
    "\n",
    "print(\"\\n Any Random integer 3 to 5\")\n",
    "B = np.random.randint(3,5)\n",
    "print(B)\n",
    "\n",
    "\n",
    "print(\"\\nRandom integers with the dimension 2*3 from 30 to 100\")\n",
    "C = np.random.randint(30,100,(2,3))\n",
    "print(C)\n",
    "\n",
    "print(\"\\nRandom integers with the dimension 2*3 from 30 to 100 with data type mentioned\")\n",
    "D = np.random.randint(30,100,(2,3),dtype='int')\n",
    "print(D)\n",
    "\n",
    "print(\"\\n Data Type is\",D.dtype)"
   ]
  },
  {
   "cell_type": "markdown",
   "metadata": {},
   "source": [
    "# 18.Write a NumPy program to generate a random number between 0 and 1."
   ]
  },
  {
   "cell_type": "code",
   "execution_count": 7,
   "metadata": {},
   "outputs": [
    {
     "name": "stdout",
     "output_type": "stream",
     "text": [
      "[-0.90116354]\n",
      "\n",
      " [-123.27748371]\n",
      "\n",
      " [[ 3.43654237  0.86818906]\n",
      " [-0.26773565  0.12539156]]\n"
     ]
    }
   ],
   "source": [
    "#np.random.normal?\n",
    "#np.random.normal(loc=0.0, scale=1.0, size=None)\n",
    "#loc: Mean (\"centre\") of the distribution\n",
    "#scale: Standard deviation (spread or \"width\") of the distribution\n",
    "A = np.random.normal(0,1,1)\n",
    "print(A)\n",
    "\n",
    "A1 = np.random.normal(0,100,1)\n",
    "print(\"\\n\",A1)\n",
    "\n",
    "A2 = np.random.normal(0,1,(2,2))\n",
    "print(\"\\n\",A2)"
   ]
  },
  {
   "cell_type": "markdown",
   "metadata": {},
   "source": [
    "# 19. Write a NumPy program to create a vector with values ranging from 15 to 55 and print all values except the first and last."
   ]
  },
  {
   "cell_type": "code",
   "execution_count": 22,
   "metadata": {},
   "outputs": [
    {
     "name": "stdout",
     "output_type": "stream",
     "text": [
      "[15 18 21 24 27 30 33 36 39 42 45 48 51 54 57]\n",
      "\n",
      "Original vector:\n",
      "\n",
      " [15 16 17 18 19 20 21 22 23 24 25 26 27 28 29 30 31 32 33 34 35 36 37 38\n",
      " 39 40 41 42 43 44 45 46 47 48 49 50 51 52 53 54]\n",
      "\n",
      "All values except the first and last of the said vector:\n",
      "\n",
      " [16 17 18 19 20 21 22 23 24 25 26 27 28 29 30 31 32 33 34 35 36 37 38 39\n",
      " 40 41 42 43 44 45 46 47 48 49 50 51 52 53]\n"
     ]
    }
   ],
   "source": [
    "#arange([start,] stop[, step,], dtype=None)\n",
    "S = np.arange(15,60,3)\n",
    "print(S)\n",
    "A = np.arange(15,55)\n",
    "print(\"\\nOriginal vector:\")\n",
    "print(\"\\n\",A)\n",
    "print(\"\\nAll values except the first and last of the said vector:\")\n",
    "print(\"\\n\",A[1:-1])"
   ]
  },
  {
   "cell_type": "markdown",
   "metadata": {},
   "source": [
    "# 20. Write a NumPy program to create a 3X4 array using and iterate over it."
   ]
  },
  {
   "cell_type": "code",
   "execution_count": 41,
   "metadata": {},
   "outputs": [
    {
     "name": "stdout",
     "output_type": "stream",
     "text": [
      "Original array:\n",
      "[[10 11 12 13]\n",
      " [14 15 16 17]\n",
      " [18 19 20 21]]\n",
      "\n",
      "Iterate using for loop. It will iterate row wise\n",
      "\n",
      " [10 11 12 13]\n",
      "\n",
      " [14 15 16 17]\n",
      "\n",
      " [18 19 20 21]\n",
      "\n",
      "Iterate using np.nditearte. It will access each element of the array\n",
      "10 11 12 13 14 15 16 17 18 19 20 21 "
     ]
    }
   ],
   "source": [
    "\n",
    "a = np.arange(10,22).reshape((3, 4))\n",
    "print(\"Original array:\")\n",
    "print(a)\n",
    "\n",
    "\n",
    "print(\"\\nIterate using for loop. It will iterate row wise\")\n",
    "for i in a:\n",
    "    print(\"\\n\",i)\n",
    "\n",
    "    \n",
    "print(\"\\nIterate using np.nditearte. It will access each element of the array\")\n",
    "for i in np.nditer(a): #n dimensional iterator\n",
    "    print(i,end=\" \") #if we didnt give end =\"\", then it will print in new line\n"
   ]
  },
  {
   "cell_type": "markdown",
   "metadata": {},
   "source": [
    "# 21. Write a NumPy program to create a vector of length 10 with values evenly distributed between 5 and 50."
   ]
  },
  {
   "cell_type": "code",
   "execution_count": 50,
   "metadata": {},
   "outputs": [
    {
     "name": "stdout",
     "output_type": "stream",
     "text": [
      "Length 10 with values evenly distributed between 5 and 50:\n",
      "\n",
      "[ 5. 10. 15. 20. 25. 30. 35. 40. 45. 50.]\n"
     ]
    }
   ],
   "source": [
    "#np.linspace(start, stop, num=50, endpoint=True, retstep=False, dtype=None, axis=0)\n",
    "#Returns `num` evenly spaced samples, calculated over the interval [`start`, `stop`]. Default num value is 50 or we can mention\n",
    "\n",
    "\n",
    "v = np.linspace(5, 50, 10)#start,stop,num\n",
    "\n",
    "print(\"Length 10 with values evenly distributed between 5 and 50:\\n\")\n",
    "print(v)"
   ]
  },
  {
   "cell_type": "markdown",
   "metadata": {},
   "source": [
    "# 22. Write a NumPy program to create a vector with values from 0 to 20 and change the sign of the numbers in the range from 9 to 15."
   ]
  },
  {
   "cell_type": "code",
   "execution_count": 59,
   "metadata": {},
   "outputs": [
    {
     "name": "stdout",
     "output_type": "stream",
     "text": [
      "Original vector:\n",
      "[ 0  1  2  3  4  5  6  7  8  9 10 11 12 13 14 15 16 17 18 19 20]\n",
      "\n",
      "After changing the sign of the numbers in the range from 9 to 15:\n",
      "[  0   1   2   3   4   5   6   7   8  -9 -10 -11 -12 -13 -14 -15  16  17\n",
      "  18  19  20]\n"
     ]
    }
   ],
   "source": [
    "#arange([start,] stop[, step,], dtype=None)\n",
    "\n",
    "A = np.arange(0,21)\n",
    "print(\"Original vector:\")\n",
    "print(A)\n",
    "\n",
    "\n",
    "print(\"\\nAfter changing the sign of the numbers in the range from 9 to 15:\")\n",
    "A[(A>=9) & (A<=15)] *=-1\n",
    "print(A)"
   ]
  },
  {
   "cell_type": "markdown",
   "metadata": {},
   "source": [
    "# 23. Write a NumPy program to create a vector of length 5 filled with arbitrary integers from 0 to 10."
   ]
  },
  {
   "cell_type": "code",
   "execution_count": 63,
   "metadata": {},
   "outputs": [
    {
     "name": "stdout",
     "output_type": "stream",
     "text": [
      "[ 0.   2.5  5.   7.5 10. ]\n",
      "\n",
      "Vector of length 5 filled with arbitrary integers from 0 to 10:\n",
      "[2 4 6 9 0]\n"
     ]
    }
   ],
   "source": [
    "A = np.linspace(0,10,5)\n",
    "print(A)\n",
    "\n",
    "#or\n",
    "\n",
    "#randint(low, high=None, size=None, dtype='l')\n",
    "x = np.random.randint(0, 11, 5)\n",
    "print(\"\\nVector of length 5 filled with arbitrary integers from 0 to 10:\")\n",
    "print(x)\n"
   ]
  },
  {
   "cell_type": "markdown",
   "metadata": {},
   "source": [
    "# 24. Write a NumPy program to multiply the values of two given vectors."
   ]
  },
  {
   "cell_type": "code",
   "execution_count": 66,
   "metadata": {
    "scrolled": true
   },
   "outputs": [
    {
     "name": "stdout",
     "output_type": "stream",
     "text": [
      "Vector-1\n",
      "[1 8 3 5]\n",
      "\n",
      "Vector-2\n",
      "[8 7 4 3]\n",
      "\n",
      "Multiply the values of two said vectors:\n",
      "[ 8 56 12 15]\n"
     ]
    }
   ],
   "source": [
    "x = np.array([1, 8, 3, 5])\n",
    "print(\"Vector-1\")\n",
    "print(x)\n",
    "\n",
    "y= np.random.randint(0, 11, 4)\n",
    "print(\"\\nVector-2\")\n",
    "print(y)\n",
    "\n",
    "result = x * y\n",
    "print(\"\\nMultiply the values of two said vectors:\")\n",
    "print(result)"
   ]
  },
  {
   "cell_type": "markdown",
   "metadata": {},
   "source": [
    "# 25. Write a NumPy program to create a 3x4 matrix filled with values from 10 to 21. "
   ]
  },
  {
   "cell_type": "code",
   "execution_count": 69,
   "metadata": {},
   "outputs": [
    {
     "name": "stdout",
     "output_type": "stream",
     "text": [
      "[[10 11 12 13]\n",
      " [14 15 16 17]\n",
      " [18 19 20 21]]\n"
     ]
    }
   ],
   "source": [
    "A = np.arange(10,22).reshape(3,4)\n",
    "print(A)"
   ]
  },
  {
   "cell_type": "markdown",
   "metadata": {},
   "source": [
    "# 26. Write a NumPy program to find the number of rows and columns of a given matrix. "
   ]
  },
  {
   "cell_type": "code",
   "execution_count": 74,
   "metadata": {},
   "outputs": [
    {
     "name": "stdout",
     "output_type": "stream",
     "text": [
      "Original matrix:\n",
      "[[10 11 12 13]\n",
      " [14 15 16 17]\n",
      " [18 19 20 21]]\n",
      "\n",
      "Number of rows and columns of the said matrix:\n",
      "(3, 4)\n",
      "4\n",
      "int32\n",
      "12\n",
      "2\n"
     ]
    }
   ],
   "source": [
    "m= np.arange(10,22).reshape((3, 4))\n",
    "print(\"Original matrix:\")\n",
    "print(m)\n",
    "\n",
    "print(\"\\nNumber of rows and columns of the said matrix:\")\n",
    "print(m.shape)\n",
    "#Other array properties\n",
    "print(m.itemsize) #each item size\n",
    "print(m.dtype) #data type\n",
    "print(m.size) #total size\n",
    "print(m.ndim) #dimension"
   ]
  },
  {
   "cell_type": "markdown",
   "metadata": {},
   "source": [
    "# 27. Write a NumPy program to create a 3x3 identity matrix, i.e. diagonal elements are 1, the rest are 0. "
   ]
  },
  {
   "cell_type": "code",
   "execution_count": 78,
   "metadata": {},
   "outputs": [
    {
     "name": "stdout",
     "output_type": "stream",
     "text": [
      "[[1. 0. 0.]\n",
      " [0. 1. 0.]\n",
      " [0. 0. 1.]]\n",
      "\n",
      " [[1. 0. 0.]\n",
      " [0. 1. 0.]\n",
      " [0. 0. 1.]]\n"
     ]
    }
   ],
   "source": [
    "#np.identity(n, dtype=None)\n",
    "A = np.identity(3)\n",
    "print(A)\n",
    "\n",
    "#or\n",
    "\n",
    "A = np.eye(3)\n",
    "print(\"\\n\",A)"
   ]
  },
  {
   "cell_type": "markdown",
   "metadata": {},
   "source": [
    "# 28. Write a NumPy program to create a 10x10 matrix, in which the elements on the borders will be equal to 1, and inside 0. "
   ]
  },
  {
   "cell_type": "code",
   "execution_count": 79,
   "metadata": {},
   "outputs": [
    {
     "name": "stdout",
     "output_type": "stream",
     "text": [
      "[[1. 1. 1. 1. 1. 1. 1. 1. 1. 1.]\n",
      " [1. 0. 0. 0. 0. 0. 0. 0. 0. 1.]\n",
      " [1. 0. 0. 0. 0. 0. 0. 0. 0. 1.]\n",
      " [1. 0. 0. 0. 0. 0. 0. 0. 0. 1.]\n",
      " [1. 0. 0. 0. 0. 0. 0. 0. 0. 1.]\n",
      " [1. 0. 0. 0. 0. 0. 0. 0. 0. 1.]\n",
      " [1. 0. 0. 0. 0. 0. 0. 0. 0. 1.]\n",
      " [1. 0. 0. 0. 0. 0. 0. 0. 0. 1.]\n",
      " [1. 0. 0. 0. 0. 0. 0. 0. 0. 1.]\n",
      " [1. 1. 1. 1. 1. 1. 1. 1. 1. 1.]]\n"
     ]
    }
   ],
   "source": [
    "x = np.ones((10, 10))\n",
    "x[1:-1, 1:-1] = 0\n",
    "print(x)"
   ]
  },
  {
   "cell_type": "markdown",
   "metadata": {},
   "source": [
    "# 29. Write a NumPy program to create a 5x5 zero matrix with elements on the main diagonal equal to 1, 2, 3, 4, 5. "
   ]
  },
  {
   "cell_type": "code",
   "execution_count": 92,
   "metadata": {},
   "outputs": [
    {
     "name": "stdout",
     "output_type": "stream",
     "text": [
      "[[1. 0. 0. 0. 0.]\n",
      " [0. 2. 0. 0. 0.]\n",
      " [0. 0. 3. 0. 0.]\n",
      " [0. 0. 0. 4. 0.]\n",
      " [0. 0. 0. 0. 5.]]\n",
      "\n",
      " [[1 0 0 0 0]\n",
      " [0 2 0 0 0]\n",
      " [0 0 3 0 0]\n",
      " [0 0 0 4 0]\n",
      " [0 0 0 0 5]]\n"
     ]
    }
   ],
   "source": [
    "#Method 1\n",
    "x = np.zeros((5, 5))\n",
    "y= np.array([1,2,3,4,5])\n",
    "\n",
    "np.fill_diagonal(x,y)\n",
    "print(x)\n",
    "\n",
    "#Method 2\n",
    "A = np.diag([1, 2, 3, 4, 5])\n",
    "print(\"\\n\",A)"
   ]
  },
  {
   "cell_type": "markdown",
   "metadata": {},
   "source": [
    "# 30. Write a NumPy program to create a 4x4 matrix in which 0 and 1 are staggered, with zeros on the main diagonal.\n",
    "\n",
    "#https://medium.com/@melodyxu/the-confusing-double-colon-in-numpy-850093adc36f#:~:text=This%20means%20starting%20from%20index,six%20and%20skip%20by%202. Slicing very good Article"
   ]
  },
  {
   "cell_type": "code",
   "execution_count": 104,
   "metadata": {},
   "outputs": [
    {
     "name": "stdout",
     "output_type": "stream",
     "text": [
      "[[0. 0. 0. 0.]\n",
      " [0. 0. 0. 0.]\n",
      " [0. 0. 0. 0.]\n",
      " [0. 0. 0. 0.]]\n",
      "\n",
      " [[0. 1. 0. 1.]\n",
      " [1. 0. 1. 0.]\n",
      " [0. 1. 0. 1.]\n",
      " [1. 0. 1. 0.]]\n"
     ]
    }
   ],
   "source": [
    "A = np.zeros((4,4))\n",
    "print(A)\n",
    "\n",
    "A[::2, 1::2] = 1\n",
    "A[1::2, ::2] = 1\n",
    "\n",
    "\n",
    "print(\"\\n\",A)"
   ]
  },
  {
   "cell_type": "markdown",
   "metadata": {},
   "source": [
    "# 31. Write a NumPy program to create a 3x3x3 array filled with arbitrary values. "
   ]
  },
  {
   "cell_type": "code",
   "execution_count": 112,
   "metadata": {},
   "outputs": [
    {
     "name": "stdout",
     "output_type": "stream",
     "text": [
      "\n",
      " [[[36 26 33]\n",
      "  [36 32 37]\n",
      "  [13 15 26]]\n",
      "\n",
      " [[21 29 11]\n",
      "  [24 25 11]\n",
      "  [32 21 29]]\n",
      "\n",
      " [[33 14 11]\n",
      "  [17 24 11]\n",
      "  [12 19 26]]]\n",
      "\n",
      " [[[0.13119385 0.28388043 0.3815084 ]\n",
      "  [0.2264928  0.52482431 0.66152745]\n",
      "  [0.27697115 0.57951674 0.71190197]]\n",
      "\n",
      " [[0.78590254 0.39641428 0.52493025]\n",
      "  [0.93340977 0.94106072 0.01362755]\n",
      "  [0.14706407 0.94133514 0.79499682]]\n",
      "\n",
      " [[0.02805791 0.18943877 0.71175375]\n",
      "  [0.1746477  0.65790317 0.84011798]\n",
      "  [0.91655153 0.05905564 0.32352576]]]\n"
     ]
    }
   ],
   "source": [
    "#randint(low, high=None, size=None, dtype='l')\n",
    "A = np.random.randint(10,39,(3,3,3)) #returns integer values from given range\n",
    "print(\"\\n\",A)\n",
    "\n",
    "#or\n",
    "#random(size=None)\n",
    "B = np.random.random((3,3,3)) #return random values in 0 - 1 Range\n",
    "print(\"\\n\",B)\n"
   ]
  },
  {
   "cell_type": "markdown",
   "metadata": {},
   "source": [
    "# 32. Write a NumPy program to compute sum of all elements, sum of each column and sum of each row of a given array. "
   ]
  },
  {
   "cell_type": "code",
   "execution_count": 114,
   "metadata": {},
   "outputs": [
    {
     "name": "stdout",
     "output_type": "stream",
     "text": [
      "Original array:\n",
      "[[0 1]\n",
      " [2 3]]\n",
      "Sum of all elements:\n",
      "6\n",
      "Sum of each column:\n",
      "[2 4]\n",
      "Sum of each row:\n",
      "[1 5]\n"
     ]
    }
   ],
   "source": [
    "#np.sum-Sum of array elements over a given axis.\n",
    "x = np.array([[0,1],[2,3]])\n",
    "print(\"Original array:\")\n",
    "print(x)\n",
    "\n",
    "print(\"Sum of all elements:\")\n",
    "print(np.sum(x))\n",
    "\n",
    "print(\"Sum of each column:\")\n",
    "print(np.sum(x, axis=0))\n",
    "\n",
    "print(\"Sum of each row:\")\n",
    "print(np.sum(x, axis=1))"
   ]
  },
  {
   "cell_type": "markdown",
   "metadata": {},
   "source": [
    "# 33. Write a NumPy program to compute the inner product of two given vectors. "
   ]
  },
  {
   "cell_type": "code",
   "execution_count": 116,
   "metadata": {},
   "outputs": [
    {
     "name": "stdout",
     "output_type": "stream",
     "text": [
      "Original vectors:\n",
      "[4 5]\n",
      "[ 7 10]\n",
      "Inner product of said vectors:\n",
      "78\n",
      "[28 50]\n"
     ]
    }
   ],
   "source": [
    "x = np.array([4, 5])\n",
    "y = np.array([7, 10])\n",
    "\n",
    "print(\"Original vectors:\")\n",
    "print(x)\n",
    "print(y)\n",
    "\n",
    "print(\"Inner product of said vectors:\")\n",
    "print(np.dot(x, y)) #returns sum of row wise products\n",
    "\n",
    "print(x*y) # Shows only row wise product,not sum\n"
   ]
  },
  {
   "cell_type": "markdown",
   "metadata": {},
   "source": [
    "# 34. Write a NumPy program to add a vector to each row of a given matrix."
   ]
  },
  {
   "cell_type": "code",
   "execution_count": 128,
   "metadata": {},
   "outputs": [
    {
     "name": "stdout",
     "output_type": "stream",
     "text": [
      "Original vector:\n",
      "[1 1 0]\n",
      "Original matrix:\n",
      "[[ 1  2  3]\n",
      " [ 4  5  6]\n",
      " [ 7  8  9]\n",
      " [10 11 12]]\n",
      "\n",
      "\n",
      " [[ 1  2  3]\n",
      " [ 4  5  6]\n",
      " [ 7  8  9]\n",
      " [10 11 12]]\n",
      "\n",
      "After adding the vector v to each row of the matrix m:\n",
      "[[ 2  3  3]\n",
      " [ 5  6  6]\n",
      " [ 8  9  9]\n",
      " [11 12 12]]\n"
     ]
    }
   ],
   "source": [
    "\n",
    "m = np.array([[1,2,3], [4,5,6], [7,8,9], [10, 11, 12]])\n",
    "v = np.array([1, 1, 0])\n",
    "print(\"Original vector:\")\n",
    "print(v)\n",
    "print(\"Original matrix:\")\n",
    "print(m)\n",
    "\n",
    "result = np.empty_like(m)\n",
    "\n",
    "for i in range(4): #range gives 0 to 3\n",
    "  result[i, :] = m[i, :] + v\n",
    "print(\"\\nAfter adding the vector v to each row of the matrix m:\")\n",
    "print(result)\n"
   ]
  },
  {
   "cell_type": "markdown",
   "metadata": {},
   "source": [
    "# 35. Write a NumPy program to save a given array to a binary file . "
   ]
  },
  {
   "cell_type": "code",
   "execution_count": 129,
   "metadata": {},
   "outputs": [
    {
     "name": "stdout",
     "output_type": "stream",
     "text": [
      "Check if 'temp_arra.npy' exists or not?\n",
      "True\n"
     ]
    }
   ],
   "source": [
    "import os\n",
    "a = np.arange(20)\n",
    "np.save('temp_arra.npy', a)\n",
    "print(\"Check if 'temp_arra.npy' exists or not?\")\n",
    "if os.path.exists('temp_arra.npy'):\n",
    "    x2 = np.load('temp_arra.npy')\n",
    "    print(np.array_equal(a, x2))"
   ]
  },
  {
   "cell_type": "code",
   "execution_count": null,
   "metadata": {},
   "outputs": [],
   "source": []
  }
 ],
 "metadata": {
  "kernelspec": {
   "display_name": "Python 3",
   "language": "python",
   "name": "python3"
  },
  "language_info": {
   "codemirror_mode": {
    "name": "ipython",
    "version": 3
   },
   "file_extension": ".py",
   "mimetype": "text/x-python",
   "name": "python",
   "nbconvert_exporter": "python",
   "pygments_lexer": "ipython3",
   "version": "3.7.6"
  }
 },
 "nbformat": 4,
 "nbformat_minor": 4
}
