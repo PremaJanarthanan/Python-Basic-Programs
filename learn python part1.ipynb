{
 "cells": [
  {
   "cell_type": "markdown",
   "metadata": {},
   "source": [
    "# Example Program on functions \n",
    "Read Student marks and calculate average marks"
   ]
  },
  {
   "cell_type": "code",
   "execution_count": 1,
   "metadata": {},
   "outputs": [],
   "source": [
    "def getDetails():\n",
    "    D = {}\n",
    "    while True:\n",
    "        studentID = input(\"Enter ID\")\n",
    "        studentMarks = input(\"Enter marks separated by comma\")\n",
    "        moreMarks = input(\"Enter 'no' to stop inputting\")\n",
    "        if studentID in D:\n",
    "            print(\"ID alrady existed, enter new ID\")\n",
    "        else:\n",
    "            D[studentID] = studentMarks.split(\",\")\n",
    "        if moreMarks == \"no\":\n",
    "            return D\n",
    "            "
   ]
  },
  {
   "cell_type": "code",
   "execution_count": 2,
   "metadata": {},
   "outputs": [
    {
     "name": "stdout",
     "output_type": "stream",
     "text": [
      "Enter ID11\n",
      "Enter marks separated by comma45,56,78\n",
      "Enter 'no' to stop inputtingy\n",
      "Enter ID22\n",
      "Enter marks separated by comma76,89,37\n",
      "Enter 'no' to stop inputtingy\n",
      "Enter ID33\n",
      "Enter marks separated by comma98,87,93\n",
      "Enter 'no' to stop inputtingno\n"
     ]
    }
   ],
   "source": [
    "studentDetails = getDetails()"
   ]
  },
  {
   "cell_type": "code",
   "execution_count": 15,
   "metadata": {},
   "outputs": [
    {
     "data": {
      "text/plain": [
       "{'11': ['45', '56', '78'], '22': ['76', '89', '37'], '33': ['98', '87', '93']}"
      ]
     },
     "execution_count": 15,
     "metadata": {},
     "output_type": "execute_result"
    }
   ],
   "source": [
    "studentDetails"
   ]
  },
  {
   "cell_type": "code",
   "execution_count": 16,
   "metadata": {},
   "outputs": [],
   "source": [
    "def findAvg(studentDetails):\n",
    "    avgMarks = {}\n",
    "    for i in studentDetails:\n",
    "        tot = 0\n",
    "        avg = 0\n",
    "        L = studentDetails[i]\n",
    "        for j in L:\n",
    "            tot = tot+int(j)\n",
    "        avg = tot/len(L)\n",
    "        avgMarks[i] = avg\n",
    "    return avgMarks    \n"
   ]
  },
  {
   "cell_type": "code",
   "execution_count": 17,
   "metadata": {},
   "outputs": [],
   "source": [
    "avgDetails = findAvg(studentDetails)"
   ]
  },
  {
   "cell_type": "code",
   "execution_count": 18,
   "metadata": {},
   "outputs": [
    {
     "data": {
      "text/plain": [
       "{'11': 59.666666666666664, '22': 67.33333333333333, '33': 92.66666666666667}"
      ]
     },
     "execution_count": 18,
     "metadata": {},
     "output_type": "execute_result"
    }
   ],
   "source": [
    "avgDetails"
   ]
  },
  {
   "cell_type": "markdown",
   "metadata": {},
   "source": [
    "# Numpy Package"
   ]
  },
  {
   "cell_type": "markdown",
   "metadata": {},
   "source": [
    "# Arrays"
   ]
  },
  {
   "cell_type": "code",
   "execution_count": 19,
   "metadata": {},
   "outputs": [],
   "source": [
    "#import numpy\n",
    "import numpy as np"
   ]
  },
  {
   "cell_type": "code",
   "execution_count": 16,
   "metadata": {},
   "outputs": [
    {
     "name": "stdout",
     "output_type": "stream",
     "text": [
      "[1 2 3 4 5]\n",
      "<class 'numpy.ndarray'>\n",
      "[2 3 6 9 5]\n",
      "<class 'numpy.ndarray'>\n",
      "[2 3 4]\n",
      "<class 'numpy.ndarray'>\n",
      "[4. 6. 5.]\n",
      "<class 'numpy.ndarray'>\n",
      "int32\n",
      "int32\n",
      "int32\n",
      "float32\n"
     ]
    }
   ],
   "source": [
    "#Array Declaration\n",
    "a = np.array([1,2,3,4,5])#mention as list\n",
    "b = np.array((2,3,6,9,5)) #mention as tuple\n",
    "a1 = np.array([2,3,4],dtype = 'i')\n",
    "b1 = np.array((4,6,5), dtype = 'f')\n",
    "print(a)\n",
    "print(type(a))\n",
    "print(b)\n",
    "print(type(b))\n",
    "print(a1)\n",
    "print(type(a1))\n",
    "print(b1)\n",
    "print(type(b1))\n",
    "#For all it will show the type as numpy.ndarray \n",
    "    \n",
    "    #and\n",
    "\n",
    "print(a.dtype)\n",
    "print(b.dtype)\n",
    "print(a1.dtype)\n",
    "print(b1.dtype)\n",
    "\n",
    "#dtype is a property of numpy array. For all it will show the data type of the array"
   ]
  },
  {
   "cell_type": "code",
   "execution_count": 18,
   "metadata": {},
   "outputs": [
    {
     "name": "stdout",
     "output_type": "stream",
     "text": [
      "int32\n",
      "1\n",
      "5\n",
      "20\n"
     ]
    }
   ],
   "source": [
    "#array proprties\n",
    "print(a.dtype)#prints data type\n",
    "print(a.ndim)#print the dimension of array\n",
    "print(a.size) # prints total number of elements\n",
    "print(a.nbytes) #prints the no of bytes used\n",
    "#shape property, refer below\n",
    "\n",
    "#etc.."
   ]
  },
  {
   "cell_type": "code",
   "execution_count": 36,
   "metadata": {},
   "outputs": [
    {
     "name": "stdout",
     "output_type": "stream",
     "text": [
      "[[1 2 3]\n",
      " [4 5 6]]\n",
      "2\n"
     ]
    }
   ],
   "source": [
    "#two dimentional arrays\n",
    "a = np.array([[1,2,3],[4,5,6]]) # lists of lists\n",
    "print(a)\n",
    "print(a.ndim) # it is property, not function. no need to give () "
   ]
  },
  {
   "cell_type": "code",
   "execution_count": 37,
   "metadata": {},
   "outputs": [
    {
     "data": {
      "text/plain": [
       "2"
      ]
     },
     "execution_count": 37,
     "metadata": {},
     "output_type": "execute_result"
    }
   ],
   "source": [
    "#Accessing elements\n",
    "a[0,1]"
   ]
  },
  {
   "cell_type": "code",
   "execution_count": 38,
   "metadata": {},
   "outputs": [
    {
     "data": {
      "text/plain": [
       "6"
      ]
     },
     "execution_count": 38,
     "metadata": {},
     "output_type": "execute_result"
    }
   ],
   "source": [
    "a[1,2]"
   ]
  },
  {
   "cell_type": "code",
   "execution_count": 40,
   "metadata": {},
   "outputs": [
    {
     "ename": "IndexError",
     "evalue": "index 2 is out of bounds for axis 0 with size 2",
     "output_type": "error",
     "traceback": [
      "\u001b[1;31m---------------------------------------------------------------------------\u001b[0m",
      "\u001b[1;31mIndexError\u001b[0m                                Traceback (most recent call last)",
      "\u001b[1;32m<ipython-input-40-eb66dea03c64>\u001b[0m in \u001b[0;36m<module>\u001b[1;34m\u001b[0m\n\u001b[1;32m----> 1\u001b[1;33m \u001b[0ma\u001b[0m\u001b[1;33m[\u001b[0m\u001b[1;36m2\u001b[0m\u001b[1;33m,\u001b[0m\u001b[1;36m3\u001b[0m\u001b[1;33m]\u001b[0m \u001b[1;31m#out of bound error\u001b[0m\u001b[1;33m\u001b[0m\u001b[1;33m\u001b[0m\u001b[0m\n\u001b[0m",
      "\u001b[1;31mIndexError\u001b[0m: index 2 is out of bounds for axis 0 with size 2"
     ]
    }
   ],
   "source": [
    "a[2,3] #out of bound error"
   ]
  },
  {
   "cell_type": "code",
   "execution_count": 44,
   "metadata": {},
   "outputs": [
    {
     "data": {
      "text/plain": [
       "9"
      ]
     },
     "execution_count": 44,
     "metadata": {},
     "output_type": "execute_result"
    }
   ],
   "source": [
    "#two dimensional array, need two indices\n",
    "B = np.array([[1,2,3],[4,5,6],[7,8,9,]]) \n",
    "# should have same number of elements in each list\n",
    "B.ndim\n",
    "B[2,2]"
   ]
  },
  {
   "cell_type": "code",
   "execution_count": 46,
   "metadata": {},
   "outputs": [
    {
     "name": "stdout",
     "output_type": "stream",
     "text": [
      "7\n",
      "3\n"
     ]
    }
   ],
   "source": [
    "#three dimensional array, need three indices\n",
    "C = np.array([[[1,2,3],[5,6,7]],[[3,4,5],[6,7,8]]])\n",
    "print(C[1,1,1])\n",
    "print(C[0,0,2])"
   ]
  },
  {
   "cell_type": "code",
   "execution_count": 50,
   "metadata": {},
   "outputs": [
    {
     "name": "stdout",
     "output_type": "stream",
     "text": [
      "int32\n",
      "<class 'numpy.ndarray'>\n"
     ]
    }
   ],
   "source": [
    "print(C.dtype) # dtype is attribute\n",
    "print(type(C))# type() is a method\n"
   ]
  },
  {
   "cell_type": "code",
   "execution_count": 51,
   "metadata": {},
   "outputs": [
    {
     "name": "stdout",
     "output_type": "stream",
     "text": [
      "2\n",
      "2\n",
      "3\n"
     ]
    }
   ],
   "source": [
    "#shape property\n",
    "print(C.shape[0]) #how 2D are there\n",
    "print(C.shape[1]) # How many 1D are there\n",
    "print(C.shape[2]) #How many elements in each 1D"
   ]
  },
  {
   "cell_type": "code",
   "execution_count": 1,
   "metadata": {},
   "outputs": [
    {
     "name": "stdout",
     "output_type": "stream",
     "text": [
      "Interactive namespace is empty.\n"
     ]
    }
   ],
   "source": [
    "%whos"
   ]
  },
  {
   "cell_type": "code",
   "execution_count": 5,
   "metadata": {},
   "outputs": [
    {
     "name": "stdout",
     "output_type": "stream",
     "text": [
      "[2]\n"
     ]
    },
    {
     "data": {
      "text/plain": [
       "1"
      ]
     },
     "execution_count": 5,
     "metadata": {},
     "output_type": "execute_result"
    }
   ],
   "source": [
    "#Array with one element , one dimension\n",
    "import numpy as np\n",
    "A = np.array([2])\n",
    "print(A)\n",
    "A.ndim"
   ]
  },
  {
   "cell_type": "code",
   "execution_count": 7,
   "metadata": {},
   "outputs": [
    {
     "name": "stdout",
     "output_type": "stream",
     "text": [
      "0\n",
      "4\n"
     ]
    }
   ],
   "source": [
    "#Array with one element but as zero dimension!!!\n",
    "B = np.array(4)\n",
    "print(B.ndim)\n",
    "print(B)"
   ]
  },
  {
   "cell_type": "code",
   "execution_count": 15,
   "metadata": {},
   "outputs": [
    {
     "name": "stdout",
     "output_type": "stream",
     "text": [
      "[2 4]\n",
      "1\n",
      "[[2 4]\n",
      " [5 6]]\n",
      "2\n",
      "[[[2 4]\n",
      "  [5 6]]\n",
      "\n",
      " [[1 4]\n",
      "  [4 9]]]\n",
      "3\n"
     ]
    }
   ],
   "source": [
    "C = np.array([2,4])#combining two 0D we will get 1D\n",
    "D = np.array([[2,4],[5,6]])#Combining 2-1D arrays, we will get 2D array\n",
    "E = np.array([[[2,4],[5,6]],[[1,4],[4,9]]])#combining two 2-2D arrays we will get 3D array\n",
    "\n",
    "print(C)\n",
    "print(C.ndim)\n",
    "\n",
    "print(D)\n",
    "print(D.ndim)\n",
    "\n",
    "print(E)\n",
    "print(E.ndim)"
   ]
  },
  {
   "cell_type": "code",
   "execution_count": 25,
   "metadata": {},
   "outputs": [
    {
     "name": "stdout",
     "output_type": "stream",
     "text": [
      "[ 0  1  2  3  4  5  6  7  8  9 10 11 12 13 14 15 16 17 18 19 20 21 22 23\n",
      " 24 25 26 27 28 29 30 31 32 33 34 35 36 37 38 39 40 41 42 43 44 45 46 47\n",
      " 48 49 50 51 52 53 54 55 56 57 58 59 60 61 62 63 64 65 66 67 68 69 70 71\n",
      " 72 73 74 75 76 77 78 79 80 81 82 83 84 85 86 87 88 89 90 91 92 93 94 95\n",
      " 96 97 98 99]\n",
      "1\n"
     ]
    }
   ],
   "source": [
    "#few more methods  \n",
    "\n",
    "#Method1 it is for array creation\n",
    "\n",
    "A = np.arange(100) #One of the array creation method, create 1D instaed of list\n",
    "print(A)\n",
    "print(A.ndim)"
   ]
  },
  {
   "cell_type": "code",
   "execution_count": 21,
   "metadata": {},
   "outputs": [
    {
     "name": "stdout",
     "output_type": "stream",
     "text": [
      "[20 21 22 23 24 25 26 27 28 29 30 31 32 33 34 35 36 37 38 39 40 41 42 43\n",
      " 44 45 46 47 48 49 50 51 52 53 54 55 56 57 58 59 60 61 62 63 64 65 66 67\n",
      " 68 69 70 71 72 73 74 75 76 77 78 79 80 81 82 83 84 85 86 87 88 89 90 91\n",
      " 92 93 94 95 96 97 98 99]\n"
     ]
    }
   ],
   "source": [
    "A1 = np.arange(20,100)\n",
    "print(A1)"
   ]
  },
  {
   "cell_type": "code",
   "execution_count": 20,
   "metadata": {},
   "outputs": [
    {
     "name": "stdout",
     "output_type": "stream",
     "text": [
      "[20 22 24 26 28 30 32 34 36 38 40 42 44 46 48 50 52 54 56 58 60 62 64 66\n",
      " 68 70 72 74 76 78 80 82 84 86 88 90 92 94 96 98]\n"
     ]
    }
   ],
   "source": [
    "B = np.arange(20,100,2)\n",
    "print(B)"
   ]
  },
  {
   "cell_type": "code",
   "execution_count": 24,
   "metadata": {},
   "outputs": [
    {
     "name": "stdout",
     "output_type": "stream",
     "text": [
      "range(0, 10)\n",
      "[0, 1, 2, 3, 4, 5, 6, 7, 8, 9]\n"
     ]
    }
   ],
   "source": [
    "print(range(10))#This wont iterate. it will only while creating list or array\n",
    "                # or in for loop as an iterator\n",
    "    \n",
    "print(list(range(10))) # This prints a list"
   ]
  },
  {
   "cell_type": "code",
   "execution_count": 31,
   "metadata": {},
   "outputs": [
    {
     "name": "stdout",
     "output_type": "stream",
     "text": [
      "[1 0 2 9 8 7 4 3 5 6]\n",
      "<class 'numpy.ndarray'>\n",
      "[20 22 24 26 28 30 32 34 36 38 40 42 44 46 48 50 52 54 56 58 60 62 64 66\n",
      " 68 70 72 74 76 78 80 82 84 86 88 90 92 94 96 98]\n",
      "[88 42 26 52 98 46 86 68 32 72 58 36 80 24 54 50 92 48 22 90 30 38 20 28\n",
      " 82 76 40 56 78 64 96 74 62 34 70 66 84 44 94 60]\n"
     ]
    }
   ],
   "source": [
    "#Method 2 in random package\n",
    "#Another array creation method with permutation of values\n",
    "\n",
    "A = np.random.permutation(np.arange(10))\n",
    "print(A)\n",
    "print(type(A))\n",
    "\n",
    "print(B)\n",
    "\n",
    "C = np.random.permutation(B)\n",
    "print(C)"
   ]
  },
  {
   "cell_type": "code",
   "execution_count": 41,
   "metadata": {},
   "outputs": [
    {
     "name": "stdout",
     "output_type": "stream",
     "text": [
      "60\n"
     ]
    },
    {
     "data": {
      "text/plain": [
       "int"
      ]
     },
     "execution_count": 41,
     "metadata": {},
     "output_type": "execute_result"
    }
   ],
   "source": [
    "#Method 3 in random package\n",
    "#returns any random integer in the range\n",
    "\n",
    "v = np.random.randint(20,300)\n",
    "print(v)\n",
    "type(v)"
   ]
  },
  {
   "cell_type": "code",
   "execution_count": 61,
   "metadata": {},
   "outputs": [
    {
     "name": "stdout",
     "output_type": "stream",
     "text": [
      "[8.78740999e-01 8.92728285e-01 3.00505207e-01 2.23989610e-01\n",
      " 4.38166139e-01 8.07498419e-01 8.10156900e-01 5.79977291e-02\n",
      " 2.46505921e-01 2.86023347e-01 1.34337244e-01 1.46475682e-01\n",
      " 9.01933012e-01 5.75337719e-01 6.58868134e-01 3.91077379e-01\n",
      " 3.73854710e-01 7.74613154e-01 9.06230737e-01 5.54174506e-01\n",
      " 2.51013268e-01 5.00830744e-01 3.29599046e-01 3.88285507e-01\n",
      " 9.81858590e-01 5.96881697e-01 8.60920919e-01 2.16887308e-01\n",
      " 2.27311781e-01 2.57791889e-01 9.26225846e-01 4.56652716e-01\n",
      " 1.94215370e-01 6.74082288e-01 5.94374100e-01 8.51345433e-01\n",
      " 4.67252960e-01 4.81896947e-01 1.22002685e-01 3.50734226e-01\n",
      " 5.66984030e-01 8.64960188e-01 8.10613518e-01 9.72451628e-02\n",
      " 7.35881751e-02 9.11939614e-01 2.30726043e-01 1.00340540e-01\n",
      " 9.41720908e-01 7.76329023e-02 6.64279162e-01 9.50684685e-01\n",
      " 2.66154265e-01 1.96168022e-01 1.42341410e-02 7.91689945e-01\n",
      " 4.87150699e-01 6.26638628e-01 2.51191665e-01 5.67740614e-03\n",
      " 2.88977558e-01 3.81080697e-01 7.12919372e-01 1.20508683e-01\n",
      " 4.25419441e-02 9.68520872e-01 9.31067127e-02 3.37441978e-01\n",
      " 3.83666740e-01 8.20383642e-01 6.15841275e-02 9.51339428e-01\n",
      " 6.43654223e-01 3.13852894e-01 1.60723048e-01 3.35081100e-01\n",
      " 7.64169362e-01 8.71589062e-01 7.35896809e-01 7.39611616e-01\n",
      " 9.36895036e-01 2.36366563e-02 3.54850873e-01 5.06881622e-02\n",
      " 1.33751021e-01 5.41117187e-01 1.61352078e-01 6.44804544e-01\n",
      " 9.07310127e-01 4.48676452e-01 3.63305356e-01 8.83609816e-01\n",
      " 7.03596410e-01 5.86507847e-01 9.00272357e-01 5.09229885e-01\n",
      " 2.24120278e-01 4.01223827e-01 9.51869921e-01 9.00944390e-01\n",
      " 2.59846137e-01 4.10684853e-02 2.01099690e-01 9.79591880e-01\n",
      " 9.68697903e-01 4.32072186e-01 4.88382535e-01 1.48126732e-01\n",
      " 7.79717242e-01 6.04717157e-01 7.59108706e-01 8.19649280e-01\n",
      " 1.08273482e-01 1.24323133e-01 8.37266794e-01 7.03268937e-01\n",
      " 7.63239430e-01 2.69381979e-01 5.36601162e-01 2.69210596e-01\n",
      " 6.86458372e-01 3.92958655e-01 5.32441497e-01 7.11737392e-01\n",
      " 3.34870341e-01 9.64210926e-01 2.10090465e-01 6.12735605e-01\n",
      " 8.36470357e-01 4.04702006e-01 8.06633433e-01 4.73113588e-01\n",
      " 6.16689405e-01 8.30171334e-01 5.89340810e-01 3.08925068e-01\n",
      " 8.81778861e-01 4.92638449e-01 9.92662429e-01 9.63904734e-01\n",
      " 1.26188261e-01 4.55589915e-01 1.13509514e-01 7.78945563e-01\n",
      " 4.27461919e-01 3.68702123e-01 6.40681532e-01 2.07579925e-01\n",
      " 7.14582866e-01 6.73575607e-01 4.45848588e-01 9.73636632e-01\n",
      " 8.90483911e-02 1.01094236e-01 1.74388972e-01 5.46553839e-01\n",
      " 1.53555434e-04 5.55567789e-01 9.59947218e-01 1.94132833e-01\n",
      " 4.52694451e-01 7.16009280e-01 9.48864814e-01 1.14179611e-02\n",
      " 8.03559667e-01 4.12287673e-02 9.53165741e-01 8.79152857e-03\n",
      " 4.19992344e-01 5.93644838e-01 7.88180524e-01 5.73220311e-01\n",
      " 5.52743277e-01 8.55748293e-01 8.08425695e-01 7.72090735e-01\n",
      " 7.81794273e-01 9.77256904e-01 3.11000371e-01 7.84969749e-01\n",
      " 2.46746112e-01 5.61584558e-01 9.14006592e-01 4.96658291e-01\n",
      " 9.82694587e-01 7.23273799e-01 1.18247127e-01 8.46280911e-01\n",
      " 2.57583675e-01 8.66860645e-01 8.13860325e-01 3.65346472e-01\n",
      " 9.80345699e-01 3.18242119e-01 5.36084233e-01 8.91561360e-01\n",
      " 8.55507071e-02 8.28019030e-01 5.12604240e-01 4.28601078e-01\n",
      " 2.00965707e-01 5.15369652e-01 6.02221285e-01 2.15238828e-01\n",
      " 6.39767845e-01 7.69071129e-02 7.75011865e-01 9.66172352e-02\n",
      " 8.05633032e-01 8.37182062e-02 1.05677431e-01 1.11030528e-01\n",
      " 4.20741328e-01 7.78597884e-01 6.27420581e-01 8.95584127e-01\n",
      " 7.76449492e-01 9.19593547e-01 3.17198042e-01 8.15830486e-01\n",
      " 6.53369592e-01 3.76725293e-01 6.63564513e-01 8.24805270e-01\n",
      " 8.10515423e-01 1.08051398e-01 7.13005160e-01 5.09077194e-02\n",
      " 8.62407159e-01 9.57204048e-01 8.32688945e-01 5.80388172e-01\n",
      " 4.53845502e-01 8.90549853e-01 2.15916757e-01 2.50400209e-01\n",
      " 9.71958762e-01 9.65604017e-02 7.36884172e-02 8.37133516e-01\n",
      " 1.49073914e-01 7.97479417e-01 4.95827243e-02 6.13945643e-01\n",
      " 3.60203532e-01 9.44842134e-01 1.76030668e-01 8.79876962e-01\n",
      " 5.72974699e-01 5.91573409e-01 7.10403057e-01 6.16860675e-01\n",
      " 5.35887070e-01 9.01261159e-01 9.50854886e-01 4.76558761e-01\n",
      " 8.59956531e-01 4.21632216e-01 5.49889044e-01 2.43007962e-02\n",
      " 8.04518563e-01 9.85697704e-01 5.37135701e-01 7.57915493e-01\n",
      " 8.61025084e-01 8.35570504e-01 1.44781531e-01 4.12804479e-01\n",
      " 5.91356419e-01 3.45105551e-02 6.50444203e-01 4.25038861e-01\n",
      " 7.70572332e-01 7.91472383e-02 2.30020791e-01 5.83793914e-01\n",
      " 5.65303322e-01 3.89497006e-02 8.95906788e-01 9.36380361e-01\n",
      " 7.85856481e-01 2.62279497e-01 9.15469391e-01 1.57334365e-02\n",
      " 3.49204032e-01 2.49420151e-01 9.05498600e-01 5.43211804e-01\n",
      " 6.46493891e-01 2.44312370e-01 1.55978124e-01 9.29069518e-02\n",
      " 2.59939169e-01 4.20853228e-01 4.07601500e-01 5.95802344e-01\n",
      " 7.60183988e-01 8.57476119e-01 4.07435510e-01 2.33871058e-01\n",
      " 7.32606608e-01 2.77449521e-01 5.55999231e-01 6.80672490e-02\n",
      " 4.60845763e-01 4.39571887e-01 3.68970621e-01 5.09314374e-01\n",
      " 6.39362085e-01 9.77411920e-02 3.69196441e-01 2.76441100e-01\n",
      " 5.64605716e-01 3.63360560e-01 3.89069865e-01 3.91148287e-01\n",
      " 6.09165344e-01 2.25620946e-01 6.17900059e-01 8.01529754e-02\n",
      " 3.59031840e-01 4.55897349e-01 3.36132233e-01 4.97378555e-01\n",
      " 1.81770652e-01 4.05715965e-01 3.59604513e-02 8.23658211e-01\n",
      " 5.53161996e-01 8.72788478e-01 3.98521777e-01 5.22260176e-01\n",
      " 9.62051365e-01 4.10136698e-01 4.08364189e-01 8.13388623e-01\n",
      " 8.02409032e-01 8.24324899e-01 8.65461245e-01 4.26283197e-01\n",
      " 1.26930769e-01 1.08249667e-01 2.17825247e-01 4.31867416e-01\n",
      " 9.05682436e-01 5.59098068e-01 5.74945319e-01 7.29842999e-01\n",
      " 1.60132789e-01 7.59687521e-01 2.38851655e-01 9.92596112e-02\n",
      " 9.18818247e-01 1.82778678e-03 6.64147990e-01 7.32655029e-01\n",
      " 2.12607435e-01 7.39176883e-01 1.03339465e-01 5.86949309e-01\n",
      " 5.54461700e-01 4.55194755e-01 7.70143784e-01 3.40948199e-01\n",
      " 4.57075268e-01 3.33489717e-01 5.89758438e-01 4.14046317e-01\n",
      " 3.99768089e-01 6.38795418e-01 9.17157128e-01 8.02269036e-01\n",
      " 1.22769586e-01 4.79722504e-01 7.37485986e-02 7.73879656e-01\n",
      " 2.90461315e-02 7.64660245e-01 7.39945473e-01 5.95691952e-01\n",
      " 3.52967530e-01 2.22361731e-02 9.64964901e-01 1.20002587e-02\n",
      " 1.02703174e-01 4.67624605e-01 2.11788440e-01 2.62952292e-01\n",
      " 6.32625393e-01 5.98878897e-01 1.67948923e-01 1.80768982e-01\n",
      " 2.01939137e-02 2.39175360e-02 5.92164005e-01 3.92913231e-01\n",
      " 3.14174616e-01 6.50896075e-01 8.51481110e-01 6.83394143e-01\n",
      " 7.59649258e-01 1.68034187e-02 6.38364104e-01 1.70736271e-01\n",
      " 9.52283484e-01 9.90999208e-01 2.91239116e-01 1.63109134e-02\n",
      " 2.18711059e-01 1.24226369e-01 1.27975057e-01 6.00641747e-01\n",
      " 9.57865395e-01 7.11596253e-01 3.84880655e-01 9.72485868e-01\n",
      " 2.20542692e-01 7.79816510e-02 8.92896850e-01 1.89685551e-01\n",
      " 4.89221509e-01 7.82934397e-01 7.79171528e-01 8.42212789e-01\n",
      " 6.28286711e-01 6.78329811e-01 7.33304066e-01 8.37636824e-01\n",
      " 5.84528654e-02 4.34733752e-01 4.12066501e-01 1.23531278e-02\n",
      " 2.82088761e-03 4.92468825e-01 4.35308209e-01 5.40345256e-01\n",
      " 4.59719598e-01 4.05580324e-02 6.53830515e-01 6.82795135e-01\n",
      " 1.29866911e-01 2.77860053e-01 1.99703879e-01 8.71471404e-01\n",
      " 8.02353483e-01 2.67409724e-01 2.86403035e-01 2.09236808e-01\n",
      " 8.16115361e-01 6.04477575e-01 1.47450020e-01 5.37709441e-01\n",
      " 4.59186472e-01 1.43616976e-01 3.81742232e-02 5.20158621e-02\n",
      " 4.15197593e-01 6.01849088e-01 9.27080233e-02 4.78641325e-01\n",
      " 7.35764109e-01 3.67336586e-01 4.38178951e-01 7.81963870e-01\n",
      " 4.58382378e-01 3.95754275e-01 4.22220387e-02 5.58035865e-01\n",
      " 3.44948854e-01 7.43333058e-01 8.01476939e-01 9.69931503e-01\n",
      " 7.08210416e-01 2.73819101e-01 4.26881580e-01 2.74734685e-01\n",
      " 1.80348433e-01 2.38654950e-01 2.26243612e-01 6.96724847e-01\n",
      " 6.70628769e-01 2.15340642e-01 6.09830309e-01 4.83914959e-01\n",
      " 3.13307867e-01 2.67305416e-01 5.50377624e-02 7.88497231e-01\n",
      " 2.97985975e-01 6.72057361e-01 2.21908310e-01 2.11282832e-02\n",
      " 8.60961074e-01 4.07620639e-01 8.58181767e-02 3.89261794e-01\n",
      " 8.01954058e-01 1.03471562e-01 8.71418741e-01 7.53263519e-02\n",
      " 7.07300082e-01 6.64910290e-01 4.93288417e-01 8.61764031e-01\n",
      " 9.95194406e-01 5.29033503e-01 6.99480280e-01 8.40836104e-01\n",
      " 1.21531561e-01 2.52978165e-01 4.33115336e-01 1.90552712e-01\n",
      " 5.02620488e-01 7.63255552e-01 6.11865226e-01 3.52014524e-02\n",
      " 6.12116377e-01 4.35079996e-01 4.11498970e-02 1.73644307e-01\n",
      " 2.08001261e-01 3.02383689e-01 5.07008051e-02 9.27958448e-01\n",
      " 9.03949577e-01 2.69658593e-01 6.94075769e-01 5.31205417e-01\n",
      " 5.25593977e-01 4.71165361e-01 4.31479534e-01 8.94962534e-01\n",
      " 4.90430514e-01 9.32701645e-01 9.24625191e-01 5.53023948e-01\n",
      " 7.16606810e-01 4.95985659e-01 2.45745125e-01 9.29549658e-01\n",
      " 1.87012425e-01 5.00705487e-02 6.22532033e-01 3.41049049e-01\n",
      " 7.77062265e-02 4.56522036e-01 4.81118865e-01 9.06923755e-01\n",
      " 4.11734977e-01 1.40666280e-01 6.40737446e-02 2.76282284e-01\n",
      " 6.41544608e-01 4.81724816e-01 2.17522249e-01 8.13392581e-01\n",
      " 6.31480421e-01 2.59277197e-01 4.09866171e-01 9.17612472e-01\n",
      " 3.72781990e-02 5.46754309e-01 8.33726656e-03 3.74075460e-01\n",
      " 7.95772682e-02 7.16894062e-01 6.69944273e-01 8.55372168e-01\n",
      " 6.65568206e-01 2.82032305e-01 3.57172935e-01 3.33757452e-01\n",
      " 2.53591294e-01 4.29003014e-02 1.85611545e-01 4.74076223e-01\n",
      " 5.75533332e-01 4.17617520e-01 7.98095855e-01 3.48529666e-01\n",
      " 8.77643569e-01 5.29644661e-01 9.43125320e-01 1.80240522e-01\n",
      " 7.56033425e-01 2.29481314e-01 2.04626654e-01 9.12968398e-01\n",
      " 7.77597361e-01 8.66075575e-01 1.57799103e-01 3.31261806e-01\n",
      " 5.56889415e-01 1.48466873e-01 4.88181068e-01 8.78861080e-01\n",
      " 7.25186386e-01 5.31747394e-01 5.98030416e-01 3.26745196e-01\n",
      " 8.93563104e-01 6.03068254e-01 5.70109518e-01 4.21732066e-01\n",
      " 7.91378072e-01 9.75458268e-01 5.97431593e-01 5.06421250e-01\n",
      " 6.23673082e-01 8.66587500e-01 4.24939025e-01 8.17151969e-01\n",
      " 6.62925841e-01 5.74908623e-01 8.32010600e-01 6.89486107e-01\n",
      " 9.23585379e-01 9.79205428e-01 8.71969536e-02 2.62037420e-02\n",
      " 9.97860387e-01 8.61866526e-01 9.71599214e-01 6.68064550e-01\n",
      " 2.53302436e-01 9.77493560e-01 4.20055598e-01 6.62512135e-01\n",
      " 8.25264147e-01 2.04820635e-01 9.93493025e-01 7.86800526e-01\n",
      " 4.06582473e-01 1.20377623e-01 8.39761613e-01 7.36664679e-01\n",
      " 8.43014195e-02 4.01353763e-01 2.56919801e-01 4.23018717e-01\n",
      " 9.07535213e-01 8.78323264e-01 2.33854372e-01 1.34833480e-01\n",
      " 9.49567925e-01 9.49118991e-02 7.28564745e-01 7.62633257e-01\n",
      " 6.15286328e-01 8.00442879e-01 7.11164571e-01 1.95969595e-01\n",
      " 5.28576517e-02 2.81088046e-02 4.08728486e-01 5.00484138e-01\n",
      " 8.02588575e-01 8.00674356e-01 2.52116282e-01 4.99384285e-01\n",
      " 6.16266287e-01 8.02724380e-01 9.26242556e-01 1.54602617e-01\n",
      " 9.02770528e-01 3.62293855e-01 8.77765220e-01 7.10830186e-01\n",
      " 1.29649840e-01 2.96752482e-01 6.65318479e-01 5.88954245e-01\n",
      " 3.57162799e-01 8.63353963e-01 8.23367012e-01 9.71089469e-01\n",
      " 6.75842424e-01 7.62966784e-01 2.84201466e-01 4.70455240e-01\n",
      " 8.18414286e-03 5.94736832e-01 8.38989351e-01 8.34451548e-01\n",
      " 2.15275234e-01 2.77874619e-01 6.81930506e-02 1.27447291e-01\n",
      " 3.27289227e-01 4.45870028e-01 6.82764314e-01 5.68540190e-01\n",
      " 6.51988314e-02 9.91351000e-02 9.19152892e-01 6.67954538e-01\n",
      " 5.39137254e-02 8.71573310e-02 8.36208406e-01 5.50764189e-01\n",
      " 4.51253368e-02 7.22922331e-02 6.80848696e-02 3.38974774e-01\n",
      " 5.42908140e-01 6.67222859e-02 9.57468635e-01 9.96378505e-01\n",
      " 7.45010678e-01 3.42185140e-01 3.95727959e-01 7.73053355e-01\n",
      " 7.99813589e-01 7.80383319e-01 3.37655444e-01 7.92901978e-01\n",
      " 6.16855111e-01 3.33045319e-01 1.94055173e-01 7.01202531e-01\n",
      " 9.72386894e-01 4.31896648e-01 6.29353218e-01 9.10217402e-01\n",
      " 1.75252304e-01 3.45451155e-01 6.32290765e-01 2.21580712e-01\n",
      " 4.78045241e-01 3.19389554e-01 7.02117210e-01 9.03631873e-01\n",
      " 2.71022025e-01 6.52192707e-01 3.83806030e-01 8.01819735e-02\n",
      " 4.18392348e-01 3.29940494e-01 9.92296470e-01 5.53695865e-01\n",
      " 2.93821488e-03 6.37070618e-01 3.97832227e-01 5.49938820e-01\n",
      " 8.54949744e-01 8.57626171e-01 3.47716592e-01 8.64795629e-01\n",
      " 4.08054879e-02 6.38116406e-01 2.63371022e-02 9.87061999e-01\n",
      " 4.54891079e-01 6.93073618e-01 9.87642592e-01 9.78272041e-01\n",
      " 1.84562689e-01 9.62048281e-01 4.57318183e-01 2.87038593e-01\n",
      " 2.77498234e-01 8.13964469e-01 6.75512400e-01 1.07804131e-01\n",
      " 5.91307890e-01 8.81624956e-01 1.28931852e-01 7.68164104e-01\n",
      " 2.55892189e-01 5.89755992e-01 5.59653191e-01 1.22724791e-01\n",
      " 2.14862763e-01 6.82066190e-01 6.20456535e-01 1.49666388e-01\n",
      " 2.76438158e-01 3.72181085e-01 1.15289206e-01 3.75826920e-01\n",
      " 5.19237988e-01 8.08775931e-01 2.27381913e-01 1.94296083e-01\n",
      " 3.95056889e-01 3.19839167e-02 6.16722016e-01 3.45353455e-01\n",
      " 8.01648650e-03 2.74700837e-01 8.19790693e-01 6.14104810e-01\n",
      " 5.37362904e-01 4.08794710e-01 2.59436436e-01 9.48049108e-01\n",
      " 4.64908942e-01 1.60840481e-01 7.43247309e-01 7.97688242e-01\n",
      " 6.59677323e-01 6.13863763e-01 4.43060009e-02 5.10976617e-01\n",
      " 9.81745006e-02 7.99888694e-01 3.57010299e-01 1.29790086e-01\n",
      " 1.26616255e-01 8.91433558e-01 9.97627202e-01 7.23116358e-01\n",
      " 8.35683506e-01 2.05675217e-01 9.00861806e-02 3.62697836e-01\n",
      " 9.30465590e-01 4.31167416e-01 1.10886499e-01 1.01905870e-01\n",
      " 2.67764744e-01 4.64107471e-01 6.23381478e-01 6.01318854e-01\n",
      " 2.47165354e-01 2.48900319e-01 5.69108681e-01 2.23730045e-01\n",
      " 7.92079753e-01 2.68913379e-01 5.68968806e-01 2.40676917e-01\n",
      " 8.22215647e-02 8.01085884e-01 7.04739841e-01 4.38126329e-01\n",
      " 4.22215236e-01 8.08544634e-01 8.08061255e-01 8.28258997e-01\n",
      " 4.60439679e-01 6.60176380e-01 4.80293750e-01 6.51825828e-01\n",
      " 4.14970865e-01 3.75727860e-02 6.19750968e-01 8.18022430e-01\n",
      " 2.55213262e-01 4.30800971e-01 2.48542682e-01 6.44874118e-01\n",
      " 5.97661239e-01 4.35688711e-01 5.02183980e-02 3.76726792e-01\n",
      " 5.58301787e-01 2.40806370e-01 7.46311934e-01 7.17043735e-01\n",
      " 6.34867521e-01 7.29690848e-01 1.27021751e-01 2.49949810e-01\n",
      " 1.69654077e-01 8.77041978e-01 7.39954400e-01 3.39444419e-01\n",
      " 9.52234134e-01 8.17669019e-01 6.91661644e-01 5.64882426e-01\n",
      " 9.03234346e-01 8.55125782e-02 5.60135320e-01 3.94824818e-01\n",
      " 3.32636608e-01 7.00498738e-01 9.63635327e-01 1.92739453e-01\n",
      " 6.51535633e-01 8.90592925e-01 5.18632481e-02 6.38882319e-01\n",
      " 4.09815886e-01 1.22357998e-01 9.39466993e-01 4.34594752e-01\n",
      " 8.22992491e-01 1.14494951e-01 1.25533028e-01 5.37318477e-01\n",
      " 2.30338397e-01 4.74501489e-01 7.91984953e-02 3.22661413e-01\n",
      " 1.51502483e-01 4.76564276e-01 4.28765049e-02 3.72725320e-01\n",
      " 1.61735624e-01 2.81922657e-01 5.03862729e-01 9.61328678e-01\n",
      " 4.09389738e-01 4.13854866e-01 5.08635916e-01 7.11706518e-01\n",
      " 6.13163625e-01 1.38105109e-01 4.08414255e-01 8.04683893e-01\n",
      " 2.09409613e-01 3.05927941e-01 8.02203611e-01 6.35491768e-01\n",
      " 5.79534637e-01 5.45262167e-01 1.18458344e-01 1.56418557e-01\n",
      " 3.86036035e-01 7.07205282e-01 1.62626022e-01 5.61511948e-01\n",
      " 2.73475671e-01 3.45298823e-01 3.98978813e-01 6.17435696e-01\n",
      " 4.39701542e-01 8.49502593e-01 7.40526801e-01 7.59575373e-01\n",
      " 7.46357074e-02 4.79410585e-03 2.49365396e-01 4.58498979e-01\n",
      " 1.15401017e-01 4.26309622e-01 3.60990577e-01 6.90304899e-01\n",
      " 5.20388282e-01 6.68073244e-01 9.02422734e-01 2.24761478e-01\n",
      " 4.95259072e-01 1.49021008e-01 7.84638466e-02 2.28985359e-01\n",
      " 1.84242555e-01 2.10251062e-01 7.15937662e-02 1.62481177e-01\n",
      " 4.26810539e-01 4.64512409e-01 7.05332310e-02 4.79455879e-01\n",
      " 2.25615672e-01 8.23818612e-01 6.12368874e-01 5.96579949e-01\n",
      " 4.72386073e-01 7.56349025e-01 7.28191412e-01 5.64209459e-01\n",
      " 2.17180602e-01 6.37865571e-01 5.15441081e-01 8.61919094e-02\n",
      " 9.22051429e-01 3.92875200e-01 2.80488671e-01 8.13273693e-01\n",
      " 5.07180791e-01 8.54897962e-01 1.92734533e-01 4.36404627e-02\n",
      " 5.75614140e-01 6.71265979e-02 5.36236347e-01 5.16237123e-01\n",
      " 4.91238749e-01 9.15026754e-01 8.80105586e-01 2.66354246e-01\n",
      " 7.13763628e-01 7.62186690e-01 8.18500321e-01 1.19796237e-01\n",
      " 7.53319932e-01 1.00808375e-01 6.68683682e-01 1.26202329e-01\n",
      " 1.39736508e-01 4.26522388e-02 6.95947011e-01 4.76864132e-01\n",
      " 9.75051824e-01 2.57229132e-01 8.71211169e-01 6.55948459e-01]\n",
      "\n",
      "\n",
      "[[0.39367869 0.26260095 0.47380505]\n",
      " [0.46744445 0.95257849 0.12990819]]\n",
      "\n",
      "\n",
      "2\n",
      "[[[[0.38566478 0.86268934]\n",
      "   [0.80211846 0.01362002]\n",
      "   [0.4016116  0.92052778]\n",
      "   [0.95266253 0.60671401]]\n",
      "\n",
      "  [[0.90717017 0.53953532]\n",
      "   [0.47821128 0.45693559]\n",
      "   [0.57113033 0.33399202]\n",
      "   [0.66352022 0.77165202]]\n",
      "\n",
      "  [[0.49743342 0.52750677]\n",
      "   [0.09921406 0.52840991]\n",
      "   [0.53667194 0.94893875]\n",
      "   [0.01387525 0.28507648]]]\n",
      "\n",
      "\n",
      " [[[0.39270105 0.49932782]\n",
      "   [0.48595677 0.19047445]\n",
      "   [0.19375273 0.41024873]\n",
      "   [0.55704357 0.57738116]]\n",
      "\n",
      "  [[0.01264945 0.43333288]\n",
      "   [0.75848365 0.46273195]\n",
      "   [0.3127607  0.50417758]\n",
      "   [0.87454285 0.26606667]]\n",
      "\n",
      "  [[0.88548163 0.83288351]\n",
      "   [0.01609679 0.19755902]\n",
      "   [0.64511911 0.03962129]\n",
      "   [0.99953053 0.59134847]]]]\n",
      "\n",
      "\n",
      "4\n"
     ]
    }
   ],
   "source": [
    "#Method 4 in random package\n",
    "A = np.random.rand(1000)#random numbers between 0 and 1\n",
    "print(A)\n",
    "print(\"\\n\")\n",
    "\n",
    "A1 = np.random.rand(2,3)#creates random numbers between 0-1 with 2 by 3 matrix \n",
    "print(A1)\n",
    "print(\"\\n\")\n",
    "print(A1.ndim) #2D data\n",
    "\n",
    "A2 = np.random.rand(2,3,4,2)#creates random numbers between 0-1 with 4D data \n",
    "print(A2)\n",
    "print(\"\\n\")\n",
    "print(A2.ndim)"
   ]
  },
  {
   "cell_type": "code",
   "execution_count": 45,
   "metadata": {},
   "outputs": [],
   "source": [
    "import matplotlib.pyplot as plt"
   ]
  },
  {
   "cell_type": "code",
   "execution_count": 53,
   "metadata": {},
   "outputs": [
    {
     "data": {
      "text/plain": [
       "(array([ 94.,  97., 107., 109.,  97.,  90.,  90., 111.,  94., 111.]),\n",
       " array([4.66571716e-04, 1.00320343e-01, 2.00174115e-01, 3.00027886e-01,\n",
       "        3.99881658e-01, 4.99735429e-01, 5.99589201e-01, 6.99442972e-01,\n",
       "        7.99296744e-01, 8.99150515e-01, 9.99004287e-01]),\n",
       " <a list of 10 Patch objects>)"
      ]
     },
     "execution_count": 53,
     "metadata": {},
     "output_type": "execute_result"
    },
    {
     "data": {
      "image/png": "[encoded data removed]",
      "text/plain": [
       "<Figure size 432x288 with 1 Axes>"
      ]
     },
     "metadata": {
      "needs_background": "light"
     },
     "output_type": "display_data"
    }
   ],
   "source": [
    "plt.hist(A) #creates histogram with default bins ie 5 (0-.2,.2-.4,..0.8-1.0)"
   ]
  },
  {
   "cell_type": "code",
   "execution_count": 54,
   "metadata": {},
   "outputs": [
    {
     "data": {
      "text/plain": [
       "(array([ 7., 15., 10.,  6., 11.,  4., 12., 11., 11.,  7.,  9.,  8., 11.,\n",
       "        13.,  6.,  6.,  8., 17.,  9., 10., 11.,  9., 11., 12., 12., 10.,\n",
       "        14., 14.,  8.,  6., 14., 11., 11., 14., 14., 10., 10.,  9.,  7.,\n",
       "         9.,  9.,  9., 10., 14.,  7., 12.,  9.,  8.,  7., 12., 10.,  8.,\n",
       "         9.,  7.,  7., 11.,  9., 10.,  8., 11., 13.,  9., 10.,  9., 10.,\n",
       "        11.,  5.,  5., 11.,  7., 19., 13., 12.,  7.,  8.,  9., 10., 15.,\n",
       "        15.,  3.,  8.,  9., 11.,  4., 12., 12., 16.,  6., 10.,  6., 13.,\n",
       "        10., 11., 11., 10., 10., 13.,  9., 13., 11.]),\n",
       " array([4.66571716e-04, 1.04519489e-02, 2.04373260e-02, 3.04227032e-02,\n",
       "        4.04080803e-02, 5.03934575e-02, 6.03788346e-02, 7.03642118e-02,\n",
       "        8.03495889e-02, 9.03349661e-02, 1.00320343e-01, 1.10305720e-01,\n",
       "        1.20291098e-01, 1.30276475e-01, 1.40261852e-01, 1.50247229e-01,\n",
       "        1.60232606e-01, 1.70217983e-01, 1.80203360e-01, 1.90188738e-01,\n",
       "        2.00174115e-01, 2.10159492e-01, 2.20144869e-01, 2.30130246e-01,\n",
       "        2.40115623e-01, 2.50101000e-01, 2.60086378e-01, 2.70071755e-01,\n",
       "        2.80057132e-01, 2.90042509e-01, 3.00027886e-01, 3.10013263e-01,\n",
       "        3.19998640e-01, 3.29984018e-01, 3.39969395e-01, 3.49954772e-01,\n",
       "        3.59940149e-01, 3.69925526e-01, 3.79910903e-01, 3.89896281e-01,\n",
       "        3.99881658e-01, 4.09867035e-01, 4.19852412e-01, 4.29837789e-01,\n",
       "        4.39823166e-01, 4.49808543e-01, 4.59793921e-01, 4.69779298e-01,\n",
       "        4.79764675e-01, 4.89750052e-01, 4.99735429e-01, 5.09720806e-01,\n",
       "        5.19706183e-01, 5.29691561e-01, 5.39676938e-01, 5.49662315e-01,\n",
       "        5.59647692e-01, 5.69633069e-01, 5.79618446e-01, 5.89603824e-01,\n",
       "        5.99589201e-01, 6.09574578e-01, 6.19559955e-01, 6.29545332e-01,\n",
       "        6.39530709e-01, 6.49516086e-01, 6.59501464e-01, 6.69486841e-01,\n",
       "        6.79472218e-01, 6.89457595e-01, 6.99442972e-01, 7.09428349e-01,\n",
       "        7.19413726e-01, 7.29399104e-01, 7.39384481e-01, 7.49369858e-01,\n",
       "        7.59355235e-01, 7.69340612e-01, 7.79325989e-01, 7.89311366e-01,\n",
       "        7.99296744e-01, 8.09282121e-01, 8.19267498e-01, 8.29252875e-01,\n",
       "        8.39238252e-01, 8.49223629e-01, 8.59209007e-01, 8.69194384e-01,\n",
       "        8.79179761e-01, 8.89165138e-01, 8.99150515e-01, 9.09135892e-01,\n",
       "        9.19121269e-01, 9.29106647e-01, 9.39092024e-01, 9.49077401e-01,\n",
       "        9.59062778e-01, 9.69048155e-01, 9.79033532e-01, 9.89018909e-01,\n",
       "        9.99004287e-01]),\n",
       " <a list of 100 Patch objects>)"
      ]
     },
     "execution_count": 54,
     "metadata": {},
     "output_type": "execute_result"
    },
    {
     "data": {
      "image/png": "[encoded data removed]",
      "text/plain": [
       "<Figure size 432x288 with 1 Axes>"
      ]
     },
     "metadata": {
      "needs_background": "light"
     },
     "output_type": "display_data"
    }
   ],
   "source": [
    "plt.hist(A,bins=100)#creates histogram with specified bins"
   ]
  },
  {
   "cell_type": "code",
   "execution_count": 56,
   "metadata": {},
   "outputs": [
    {
     "data": {
      "text/plain": [
       "(array([2.000e+00, 0.000e+00, 2.000e+00, 0.000e+00, 0.000e+00, 0.000e+00,\n",
       "        0.000e+00, 0.000e+00, 3.000e+00, 0.000e+00, 2.000e+00, 2.000e+00,\n",
       "        3.000e+00, 2.000e+00, 2.000e+00, 5.000e+00, 6.000e+00, 1.100e+01,\n",
       "        5.000e+00, 1.200e+01, 7.000e+00, 7.000e+00, 1.800e+01, 1.300e+01,\n",
       "        1.900e+01, 1.800e+01, 1.500e+01, 2.500e+01, 3.300e+01, 3.200e+01,\n",
       "        3.300e+01, 5.400e+01, 5.600e+01, 4.700e+01, 6.000e+01, 6.100e+01,\n",
       "        7.000e+01, 9.700e+01, 8.800e+01, 8.600e+01, 1.160e+02, 1.100e+02,\n",
       "        1.280e+02, 1.530e+02, 1.540e+02, 1.980e+02, 1.780e+02, 2.080e+02,\n",
       "        2.420e+02, 2.240e+02, 2.400e+02, 2.880e+02, 3.060e+02, 3.510e+02,\n",
       "        3.930e+02, 4.060e+02, 4.710e+02, 5.050e+02, 4.980e+02, 4.790e+02,\n",
       "        5.420e+02, 5.920e+02, 6.200e+02, 6.700e+02, 6.930e+02, 7.870e+02,\n",
       "        7.810e+02, 8.350e+02, 8.940e+02, 9.070e+02, 9.520e+02, 9.730e+02,\n",
       "        1.048e+03, 1.096e+03, 1.114e+03, 1.188e+03, 1.240e+03, 1.323e+03,\n",
       "        1.347e+03, 1.441e+03, 1.339e+03, 1.428e+03, 1.501e+03, 1.485e+03,\n",
       "        1.581e+03, 1.557e+03, 1.567e+03, 1.619e+03, 1.716e+03, 1.625e+03,\n",
       "        1.645e+03, 1.686e+03, 1.734e+03, 1.798e+03, 1.716e+03, 1.642e+03,\n",
       "        1.697e+03, 1.679e+03, 1.606e+03, 1.679e+03, 1.718e+03, 1.614e+03,\n",
       "        1.570e+03, 1.621e+03, 1.558e+03, 1.633e+03, 1.458e+03, 1.478e+03,\n",
       "        1.463e+03, 1.460e+03, 1.411e+03, 1.320e+03, 1.336e+03, 1.285e+03,\n",
       "        1.261e+03, 1.160e+03, 1.171e+03, 1.091e+03, 1.058e+03, 9.770e+02,\n",
       "        9.710e+02, 8.650e+02, 8.960e+02, 8.340e+02, 7.730e+02, 7.320e+02,\n",
       "        6.900e+02, 6.490e+02, 6.060e+02, 5.730e+02, 5.060e+02, 5.210e+02,\n",
       "        4.420e+02, 4.300e+02, 4.570e+02, 3.530e+02, 3.550e+02, 3.400e+02,\n",
       "        3.260e+02, 3.240e+02, 2.610e+02, 2.710e+02, 2.360e+02, 1.940e+02,\n",
       "        1.860e+02, 1.830e+02, 1.770e+02, 1.430e+02, 1.230e+02, 1.000e+02,\n",
       "        8.800e+01, 1.030e+02, 9.000e+01, 8.600e+01, 6.200e+01, 6.400e+01,\n",
       "        5.700e+01, 5.100e+01, 5.200e+01, 3.600e+01, 3.300e+01, 2.700e+01,\n",
       "        3.000e+01, 2.400e+01, 1.900e+01, 1.700e+01, 1.100e+01, 1.400e+01,\n",
       "        1.200e+01, 1.200e+01, 1.100e+01, 1.000e+01, 8.000e+00, 3.000e+00,\n",
       "        2.000e+00, 6.000e+00, 5.000e+00, 2.000e+00, 1.000e+00, 1.000e+00,\n",
       "        0.000e+00, 4.000e+00, 4.000e+00, 1.000e+00, 0.000e+00, 1.000e+00,\n",
       "        0.000e+00, 0.000e+00, 2.000e+00, 1.000e+00, 0.000e+00, 0.000e+00,\n",
       "        0.000e+00, 0.000e+00, 0.000e+00, 1.000e+00, 0.000e+00, 1.000e+00,\n",
       "        0.000e+00, 1.000e+00]),\n",
       " array([-4.08469774, -4.04185194, -3.99900614, -3.95616033, -3.91331453,\n",
       "        -3.87046872, -3.82762292, -3.78477712, -3.74193131, -3.69908551,\n",
       "        -3.65623971, -3.6133939 , -3.5705481 , -3.5277023 , -3.48485649,\n",
       "        -3.44201069, -3.39916488, -3.35631908, -3.31347328, -3.27062747,\n",
       "        -3.22778167, -3.18493587, -3.14209006, -3.09924426, -3.05639846,\n",
       "        -3.01355265, -2.97070685, -2.92786104, -2.88501524, -2.84216944,\n",
       "        -2.79932363, -2.75647783, -2.71363203, -2.67078622, -2.62794042,\n",
       "        -2.58509461, -2.54224881, -2.49940301, -2.4565572 , -2.4137114 ,\n",
       "        -2.3708656 , -2.32801979, -2.28517399, -2.24232819, -2.19948238,\n",
       "        -2.15663658, -2.11379077, -2.07094497, -2.02809917, -1.98525336,\n",
       "        -1.94240756, -1.89956176, -1.85671595, -1.81387015, -1.77102435,\n",
       "        -1.72817854, -1.68533274, -1.64248693, -1.59964113, -1.55679533,\n",
       "        -1.51394952, -1.47110372, -1.42825792, -1.38541211, -1.34256631,\n",
       "        -1.29972051, -1.2568747 , -1.2140289 , -1.17118309, -1.12833729,\n",
       "        -1.08549149, -1.04264568, -0.99979988, -0.95695408, -0.91410827,\n",
       "        -0.87126247, -0.82841666, -0.78557086, -0.74272506, -0.69987925,\n",
       "        -0.65703345, -0.61418765, -0.57134184, -0.52849604, -0.48565024,\n",
       "        -0.44280443, -0.39995863, -0.35711282, -0.31426702, -0.27142122,\n",
       "        -0.22857541, -0.18572961, -0.14288381, -0.100038  , -0.0571922 ,\n",
       "        -0.0143464 ,  0.02849941,  0.07134521,  0.11419102,  0.15703682,\n",
       "         0.19988262,  0.24272843,  0.28557423,  0.32842003,  0.37126584,\n",
       "         0.41411164,  0.45695745,  0.49980325,  0.54264905,  0.58549486,\n",
       "         0.62834066,  0.67118646,  0.71403227,  0.75687807,  0.79972387,\n",
       "         0.84256968,  0.88541548,  0.92826129,  0.97110709,  1.01395289,\n",
       "         1.0567987 ,  1.0996445 ,  1.1424903 ,  1.18533611,  1.22818191,\n",
       "         1.27102771,  1.31387352,  1.35671932,  1.39956513,  1.44241093,\n",
       "         1.48525673,  1.52810254,  1.57094834,  1.61379414,  1.65663995,\n",
       "         1.69948575,  1.74233156,  1.78517736,  1.82802316,  1.87086897,\n",
       "         1.91371477,  1.95656057,  1.99940638,  2.04225218,  2.08509798,\n",
       "         2.12794379,  2.17078959,  2.2136354 ,  2.2564812 ,  2.299327  ,\n",
       "         2.34217281,  2.38501861,  2.42786441,  2.47071022,  2.51355602,\n",
       "         2.55640182,  2.59924763,  2.64209343,  2.68493924,  2.72778504,\n",
       "         2.77063084,  2.81347665,  2.85632245,  2.89916825,  2.94201406,\n",
       "         2.98485986,  3.02770567,  3.07055147,  3.11339727,  3.15624308,\n",
       "         3.19908888,  3.24193468,  3.28478049,  3.32762629,  3.37047209,\n",
       "         3.4133179 ,  3.4561637 ,  3.49900951,  3.54185531,  3.58470111,\n",
       "         3.62754692,  3.67039272,  3.71323852,  3.75608433,  3.79893013,\n",
       "         3.84177593,  3.88462174,  3.92746754,  3.97031335,  4.01315915,\n",
       "         4.05600495,  4.09885076,  4.14169656,  4.18454236,  4.22738817,\n",
       "         4.27023397,  4.31307978,  4.35592558,  4.39877138,  4.44161719,\n",
       "         4.48446299]),\n",
       " <a list of 200 Patch objects>)"
      ]
     },
     "execution_count": 56,
     "metadata": {},
     "output_type": "execute_result"
    },
    {
     "data": {
      "image/png": "[encoded data removed]",
      "text/plain": [
       "<Figure size 432x288 with 1 Axes>"
      ]
     },
     "metadata": {
      "needs_background": "light"
     },
     "output_type": "display_data"
    }
   ],
   "source": [
    "#Method 5 in random package\n",
    "B = np.random.randn(100000)\n",
    "#this randn creates random numbers with the given number\n",
    "#By following standard normal distribution, gaussian distribution\n",
    "plt.hist(B,bins=200)"
   ]
  },
  {
   "cell_type": "code",
   "execution_count": 64,
   "metadata": {},
   "outputs": [
    {
     "name": "stdout",
     "output_type": "stream",
     "text": [
      "[[ 0  1  2  3  4  5  6  7  8  9 10 11 12 13 14 15 16 17 18 19 20 21 22 23\n",
      "  24]\n",
      " [25 26 27 28 29 30 31 32 33 34 35 36 37 38 39 40 41 42 43 44 45 46 47 48\n",
      "  49]\n",
      " [50 51 52 53 54 55 56 57 58 59 60 61 62 63 64 65 66 67 68 69 70 71 72 73\n",
      "  74]\n",
      " [75 76 77 78 79 80 81 82 83 84 85 86 87 88 89 90 91 92 93 94 95 96 97 98\n",
      "  99]]\n",
      "\n",
      "\n",
      "(4, 25)\n"
     ]
    }
   ],
   "source": [
    "#arange to create 1D array with range of 100, can combine reshape\n",
    "#the range of values with 4rows and 25 columns, 2D data\n",
    "D = np.arange(100).reshape(4,25)\n",
    "print(D)\n",
    "print(\"\\n\")\n",
    "print(D.shape)"
   ]
  },
  {
   "cell_type": "code",
   "execution_count": 65,
   "metadata": {},
   "outputs": [
    {
     "name": "stdout",
     "output_type": "stream",
     "text": [
      "[[[ 0  1  2  3  4]\n",
      "  [ 5  6  7  8  9]\n",
      "  [10 11 12 13 14]\n",
      "  [15 16 17 18 19]\n",
      "  [20 21 22 23 24]]\n",
      "\n",
      " [[25 26 27 28 29]\n",
      "  [30 31 32 33 34]\n",
      "  [35 36 37 38 39]\n",
      "  [40 41 42 43 44]\n",
      "  [45 46 47 48 49]]\n",
      "\n",
      " [[50 51 52 53 54]\n",
      "  [55 56 57 58 59]\n",
      "  [60 61 62 63 64]\n",
      "  [65 66 67 68 69]\n",
      "  [70 71 72 73 74]]\n",
      "\n",
      " [[75 76 77 78 79]\n",
      "  [80 81 82 83 84]\n",
      "  [85 86 87 88 89]\n",
      "  [90 91 92 93 94]\n",
      "  [95 96 97 98 99]]]\n",
      "\n",
      "\n",
      "(4, 5, 5)\n"
     ]
    }
   ],
   "source": [
    "#arange to create 1D array with range of 100, can combine reshape\n",
    "#the range of values with 3D data\n",
    "D = np.arange(100).reshape(4,5,5)\n",
    "print(D)\n",
    "print(\"\\n\")\n",
    "print(D.shape)"
   ]
  },
  {
   "cell_type": "markdown",
   "metadata": {},
   "source": [
    "# np slicing examples"
   ]
  },
  {
   "cell_type": "code",
   "execution_count": 112,
   "metadata": {},
   "outputs": [
    {
     "data": {
      "text/plain": [
       "'\\nnp slicing make just a view. not a copy. for ex, yu are storing slices in another variable, and that variable is just a copy.\\nif any changes in that variable, it will reflect in both sides. Because slicing is just a view. not copy\\n\\nBut when we use masking concept,instaed of slicing, automatically it will create copy. refer down :Masking - more on indexing\\n'"
      ]
     },
     "execution_count": 112,
     "metadata": {},
     "output_type": "execute_result"
    }
   ],
   "source": [
    "\"\"\"\n",
    "np slicing make just a view. not a copy. for ex, yu are storing slices in another variable, and that variable is just a copy.\n",
    "if any changes in that variable, it will reflect in both sides. Because slicing is just a view. not copy\n",
    "\n",
    "But when we use masking concept,instaed of slicing, automatically it will create copy. refer down :Masking - more on indexing\n",
    "\"\"\""
   ]
  },
  {
   "cell_type": "code",
   "execution_count": 72,
   "metadata": {},
   "outputs": [
    {
     "name": "stdout",
     "output_type": "stream",
     "text": [
      "[20 22 24 26 28 30 32 34 36 38 40 42 44 46 48 50 52 54 56 58 60 62 64 66\n",
      " 68 70 72 74 76 78 80 82 84 86 88 90 92 94 96 98]\n",
      "\n",
      "\n",
      "[26 28 30 32 34 36 38]\n"
     ]
    }
   ],
   "source": [
    "A = np.arange(20,100,2)\n",
    "print(A)\n",
    "print(\"\\n\")\n",
    "b = A[3:10] #from 3rd index till 9 not 10.\n",
    "print(b)"
   ]
  },
  {
   "cell_type": "code",
   "execution_count": 78,
   "metadata": {},
   "outputs": [
    {
     "name": "stdout",
     "output_type": "stream",
     "text": [
      "[1200   28   30   32   34   36   38]\n",
      "\n",
      "\n",
      "[  20   22   24 1200   28   30   32   34   36   38   40   42   44   46\n",
      "   48   50   52   54   56   58   60   62   64   66   68   70   72   74\n",
      "   76   78   80   82   84   86   88   90   92   94   96   98]\n"
     ]
    }
   ],
   "source": [
    "#numpy array is mutable. we can change values\n",
    "\n",
    "b[0] = 1200\n",
    "print(b)\n",
    "print(\"\\n\")\n",
    "\n",
    "print(A)# the changes will happen in both b and A.Though you create another\n",
    "        #variable, any changes in one variable, reflects another***important***"
   ]
  },
  {
   "cell_type": "code",
   "execution_count": 80,
   "metadata": {},
   "outputs": [
    {
     "name": "stdout",
     "output_type": "stream",
     "text": [
      "[1200  800   30   32   34   36   38]\n",
      "\n",
      "\n",
      "[  20   22   24 1200   28   30   32   34   36   38   40   42   44   46\n",
      "   48   50   52   54   56   58   60   62   64   66   68   70   72   74\n",
      "   76   78   80   82   84   86   88   90   92   94   96   98]\n"
     ]
    }
   ],
   "source": [
    "#to avoid both variables, pointing same location, copy fn can be used\n",
    "b = A[3:10].copy()\n",
    "b[1] = 800\n",
    "print(b)\n",
    "print(\"\\n\")\n",
    "\n",
    "print(A)"
   ]
  },
  {
   "cell_type": "code",
   "execution_count": 83,
   "metadata": {},
   "outputs": [
    {
     "name": "stdout",
     "output_type": "stream",
     "text": [
      "[20 30 40 50 60 70 80 90]\n",
      "[98 88 78 68 58 48 38 28]\n",
      "[  98   96   94   92   90   88   86   84   82   80   78   76   74   72\n",
      "   70   68   66   64   62   60   58   56   54   52   50   48   46   44\n",
      "   42   40   38   36   34   32   30   28 1200   24   22   20]\n"
     ]
    }
   ],
   "source": [
    "print(A[::5]) #all values start from zero, till last,and jump by 5 positions from 1st index\n",
    "\n",
    "print(A[::-5])#all values from the end till start position, and jump by 5 positions from 1st index\n",
    "\n",
    "print(A[::-1]) # just reverse \n"
   ]
  },
  {
   "cell_type": "code",
   "execution_count": 107,
   "metadata": {},
   "outputs": [
    {
     "name": "stdout",
     "output_type": "stream",
     "text": [
      "(array([1], dtype=int64),)\n",
      "[[1]]\n",
      "[[10.  6.  2.  9.]\n",
      " [ 4.  5.  4.  3.]\n",
      " [ 7.  7.  6.  5.]\n",
      " [ 9.  7.  8.  2.]\n",
      " [ 6.  6.  3.  7.]]\n",
      "4.0\n",
      "[4. 5. 4. 3.]\n",
      "[6. 5. 7. 7. 6.]\n",
      "\n",
      "\n",
      "[[4. 3.]\n",
      " [6. 5.]]\n",
      "\n",
      "\n",
      "[[0 0]]\n",
      "\n",
      "\n",
      "[[0 0]\n",
      " [0 1]\n",
      " [0 3]\n",
      " [2 0]\n",
      " [2 1]\n",
      " [2 2]\n",
      " [3 0]\n",
      " [3 1]\n",
      " [3 2]\n",
      " [4 0]\n",
      " [4 1]\n",
      " [4 3]]\n"
     ]
    }
   ],
   "source": [
    "#finding index with 1D array example \n",
    "pos = np.where(A==22)#gives the index\n",
    "pos1 = np.argwhere(A==22)#indices of elements that arenon zero\n",
    "print(pos)\n",
    "print(pos1)\n",
    "\n",
    "#finding index with 2D array example\n",
    "#first create 2D by random\n",
    "\n",
    "B = np.round(10*np.random.rand(5,4))#create 5*4 2D array around 0.1 to 1.0. \n",
    "                                #so use round method\n",
    "print(B)\n",
    "print(B[1,2])#1st rwo, 2nd column value\n",
    "\n",
    "print(B[1,:])#to print 1st row fully(1st row, all columns)\n",
    "print(B[:,1])#to print 1st column fully(all rows, 1st column)\n",
    "print(\"\\n\")\n",
    "\n",
    "print(B[1:3,2:4])\n",
    "print(\"\\n\")\n",
    "\n",
    "index = np.argwhere(B==10.0)\n",
    "print(index)\n",
    "print(\"\\n\")\n",
    "\n",
    "index1 = np.argwhere(B>5)\n",
    "print(index1)"
   ]
  },
  {
   "cell_type": "code",
   "execution_count": 109,
   "metadata": {},
   "outputs": [
    {
     "name": "stdout",
     "output_type": "stream",
     "text": [
      "[[ 4.  5.  2.  2.]\n",
      " [ 6.  6.  3.  3.]\n",
      " [ 7.  6.  4.  5.]\n",
      " [ 9.  7.  6.  7.]\n",
      " [10.  7.  8.  9.]]\n",
      "[[ 4.  5.  2.  2.]\n",
      " [ 6.  6.  3.  3.]\n",
      " [ 7.  6.  4.  5.]\n",
      " [ 9.  7.  6.  7.]\n",
      " [10.  7.  8.  9.]]\n",
      "[[ 2.  2.  4.  5.]\n",
      " [ 3.  3.  6.  6.]\n",
      " [ 4.  5.  6.  7.]\n",
      " [ 6.  7.  7.  9.]\n",
      " [ 7.  8.  9. 10.]]\n"
     ]
    }
   ],
   "source": [
    "#Sorting array\n",
    "#sorting column wise\n",
    "print(B)\n",
    "B.sort(axis=0)\n",
    "print(B)\n",
    "\n",
    "B.sort(axis=1)#sorting array row wise\n",
    "print(B)"
   ]
  },
  {
   "cell_type": "markdown",
   "metadata": {},
   "source": [
    "# more on slicing - masking"
   ]
  },
  {
   "cell_type": "code",
   "execution_count": null,
   "metadata": {},
   "outputs": [],
   "source": [
    "\"\"\"\n",
    "masking is nothing but an array of boolean values for which a condition is met\n",
    "\"\"\""
   ]
  },
  {
   "cell_type": "code",
   "execution_count": 115,
   "metadata": {},
   "outputs": [
    {
     "name": "stdout",
     "output_type": "stream",
     "text": [
      "[ 0  1  2  3  4  5  6  7  8  9 10 11 12 13 14 15 16 17 18 19 20 21 22 23\n",
      " 24 25 26 27 28 29 30 31 32 33 34 35 36 37 38 39 40 41 42 43 44 45 46 47\n",
      " 48 49 50 51 52 53 54 55 56 57 58 59 60 61 62 63 64 65 66 67 68 69 70 71\n",
      " 72 73 74 75 76 77 78 79 80 81 82 83 84 85 86 87 88 89 90 91 92 93 94 95\n",
      " 96 97 98 99]\n",
      "\n",
      "\n",
      "[3 5 6]\n",
      "\n",
      "\n",
      "[10  5  6]\n"
     ]
    }
   ],
   "source": [
    "A = np.arange(100)\n",
    "B = A[[3,5,6]] #[3,5,6] returns array of boolean values.\n",
    "               # A[[3,5,6]] returns value\n",
    "               # Automatically it creates copy, not just view\n",
    "               #so changes in this copy variable, wont disturb the main variable\n",
    "print(A)\n",
    "print(\"\\n\")\n",
    "print(B)\n",
    "print(\"\\n\")\n",
    "\n",
    "B[0] = 10\n",
    "print(B)"
   ]
  },
  {
   "cell_type": "code",
   "execution_count": 116,
   "metadata": {},
   "outputs": [
    {
     "name": "stdout",
     "output_type": "stream",
     "text": [
      "[ 0  1  2  3  4  5  6  7  8  9 10 11 12 13 14 15 16 17 18 19 20 21 22 23\n",
      " 24 25 26 27 28 29 30 31 32 33 34 35 36 37 38 39]\n"
     ]
    }
   ],
   "source": [
    "C = A[A<40]\n",
    "print(C)"
   ]
  },
  {
   "cell_type": "code",
   "execution_count": 121,
   "metadata": {},
   "outputs": [
    {
     "name": "stdout",
     "output_type": "stream",
     "text": [
      "[11 12 13 14 15 16 17 18 19]\n",
      "\n",
      "\n",
      "[ 0  1  2  3  4  5  6  7  8  9 10 11 12 13 14 15 16 17 18 19 20 21 22 23\n",
      " 24 25 26 27 28 29 30 31 32 33 34 35 36 37 38 39 40 41 42 43 44 45 46 47\n",
      " 48 49 50 51 52 53 54 55 56 57 58 59 60 61 62 63 64 65 66 67 68 69 70 71\n",
      " 72 73 74 75 76 77 78 79 80 81 82 83 84 85 86 87 88 89 90 91 92 93 94 95\n",
      " 96 97 98 99]\n",
      "\n",
      "\n",
      "[ 0  1  2  3  4  5  6  7  8  9 10]\n",
      "\n",
      "\n"
     ]
    }
   ],
   "source": [
    "\"\"\"\n",
    "and operator work two different boolean vales\n",
    "& operator work with rwo different boolean arrays\n",
    "same for | and ~\n",
    "\"\"\"\n",
    "D = A[(A<20) & (A>10)]\n",
    "print(D)\n",
    "print(\"\\n\")\n",
    "\n",
    "D = A[(A<20) | (A>10)]\n",
    "print(D)\n",
    "print(\"\\n\")\n",
    "\n",
    "D = A[~ (A>10)]\n",
    "print(D)\n",
    "print(\"\\n\")"
   ]
  },
  {
   "cell_type": "markdown",
   "metadata": {},
   "source": [
    "# Numpy - Broadcasting"
   ]
  },
  {
   "cell_type": "code",
   "execution_count": 131,
   "metadata": {},
   "outputs": [
    {
     "name": "stdout",
     "output_type": "stream",
     "text": [
      "The initial A value\n",
      " [[4. 7.]\n",
      " [1. 4.]]\n",
      "After adding 5\n",
      " [[ 9. 12.]\n",
      " [ 6.  9.]]\n",
      "\n",
      "\n",
      "[[3.]\n",
      " [3.]]\n",
      "\n",
      "\n",
      "[[12. 15.]\n",
      " [ 9. 12.]]\n",
      "\n",
      "\n"
     ]
    }
   ],
   "source": [
    "A = np.round(10*np.random.rand(2,2))\n",
    "print(\"The initial A value\\n\",A)\n",
    "A.ndim\n",
    "A = A+5 #Broadcasting. 5 will be added to all elements\n",
    "print(\"After adding 5\\n\",A)\n",
    "print(\"\\n\")\n",
    "B = np.round(10*np.random.rand(2,1))\n",
    "print(B)\n",
    "B.ndim\n",
    "print(\"\\n\")\n",
    "C = A + B#2*2 matrix should be added to 2*2 matrix\n",
    "         #but we gave1*2. it will automatically broadcast to 2*2 by repeating same\n",
    "print(C)\n",
    "print(\"\\n\")"
   ]
  },
  {
   "cell_type": "code",
   "execution_count": 143,
   "metadata": {},
   "outputs": [
    {
     "name": "stdout",
     "output_type": "stream",
     "text": [
      "[[ 9. 12.]\n",
      " [ 6.  9.]]\n",
      "[[3.]\n",
      " [3.]]\n",
      "\n",
      "\n",
      "[[ 9. 12.  3.]\n",
      " [ 6.  9.  3.]]\n",
      "\n",
      "\n",
      "[[ 9. 12.  3.]\n",
      " [ 6.  9.  3.]\n",
      " [ 0.  4.  2.]\n",
      " [ 1.  3.  5.]]\n"
     ]
    }
   ],
   "source": [
    "#few more methods in np\n",
    "print(A)\n",
    "print(B)\n",
    "#stacking arrays or mtrices\n",
    "\n",
    "C = np.hstack((A,B)) #combine or stacking two or more arrays horizontally\n",
    "print(\"\\n\")\n",
    "print(C)\n",
    "\n",
    "D = np.random.permutation(6).reshape(2,3)\n",
    "D\n",
    "print(\"\\n\")\n",
    "E = np.vstack((C,D)) #combine or stacking two or more arrays vertically \n",
    "print(E)\n"
   ]
  },
  {
   "cell_type": "markdown",
   "metadata": {},
   "source": [
    "# comparing execution time with python and numpy methods\n",
    "Numpy universal methods are so speedy"
   ]
  },
  {
   "cell_type": "code",
   "execution_count": 146,
   "metadata": {},
   "outputs": [
    {
     "name": "stdout",
     "output_type": "stream",
     "text": [
      "223 ms ± 5.4 ms per loop (mean ± std. dev. of 7 runs, 1 loop each)\n",
      "1.51 ms ± 61.9 µs per loop (mean ± std. dev. of 7 runs, 1000 loops each)\n",
      "276 ms ± 12.8 ms per loop (mean ± std. dev. of 7 runs, 1 loop each)\n"
     ]
    },
    {
     "data": {
      "text/plain": [
       "499814.06634872366"
      ]
     },
     "execution_count": 146,
     "metadata": {},
     "output_type": "execute_result"
    }
   ],
   "source": [
    "A = np.random.rand(1000000)\n",
    "%timeit sum(A) #python method\n",
    "%timeit np.sum(A) #numpy function\n",
    "\n",
    "def mySum(A):\n",
    "    sum = 0\n",
    "    for i in A:\n",
    "        sum+=i\n",
    "    return sum\n",
    "%timeit total = mySum(A) \n",
    "total\n"
   ]
  },
  {
   "cell_type": "code",
   "execution_count": null,
   "metadata": {},
   "outputs": [],
   "source": []
  }
 ],
 "metadata": {
  "kernelspec": {
   "display_name": "Python 3",
   "language": "python",
   "name": "python3"
  },
  "language_info": {
   "codemirror_mode": {
    "name": "ipython",
    "version": 3
   },
   "file_extension": ".py",
   "mimetype": "text/x-python",
   "name": "python",
   "nbconvert_exporter": "python",
   "pygments_lexer": "ipython3",
   "version": "3.7.6"
  }
 },
 "nbformat": 4,
 "nbformat_minor": 4
}
